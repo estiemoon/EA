{
 "cells": [
  {
   "cell_type": "code",
   "execution_count": 2,
   "metadata": {},
   "outputs": [],
   "source": [
    "import pandas as pd\n",
    "import numpy as np\n",
    "import os \n",
    "import csv"
   ]
  },
  {
   "cell_type": "markdown",
   "metadata": {},
   "source": [
    "### 경제수준:economic_level.xlsx"
   ]
  },
  {
   "cell_type": "code",
   "execution_count": 4,
   "metadata": {},
   "outputs": [
    {
     "data": {
      "text/html": [
       "<div>\n",
       "<style scoped>\n",
       "    .dataframe tbody tr th:only-of-type {\n",
       "        vertical-align: middle;\n",
       "    }\n",
       "\n",
       "    .dataframe tbody tr th {\n",
       "        vertical-align: top;\n",
       "    }\n",
       "\n",
       "    .dataframe thead th {\n",
       "        text-align: right;\n",
       "    }\n",
       "</style>\n",
       "<table border=\"1\" class=\"dataframe\">\n",
       "  <thead>\n",
       "    <tr style=\"text-align: right;\">\n",
       "      <th></th>\n",
       "      <th>시도</th>\n",
       "      <th>시군구</th>\n",
       "      <th>year</th>\n",
       "      <th>hos</th>\n",
       "      <th>er</th>\n",
       "      <th>er1564</th>\n",
       "      <th>cf</th>\n",
       "      <th>kin</th>\n",
       "      <th>elementary</th>\n",
       "      <th>doctors</th>\n",
       "      <th>...</th>\n",
       "      <th>pout</th>\n",
       "      <th>pin2</th>\n",
       "      <th>pout2</th>\n",
       "      <th>netmg</th>\n",
       "      <th>tp</th>\n",
       "      <th>sr</th>\n",
       "      <th>upr</th>\n",
       "      <th>pd</th>\n",
       "      <th>strea</th>\n",
       "      <th>stres</th>\n",
       "    </tr>\n",
       "  </thead>\n",
       "  <tbody>\n",
       "    <tr>\n",
       "      <th>0</th>\n",
       "      <td>서울특별시</td>\n",
       "      <td>서울특별시</td>\n",
       "      <td>2022</td>\n",
       "      <td>0.0</td>\n",
       "      <td>61.1</td>\n",
       "      <td>0.0</td>\n",
       "      <td>NaN</td>\n",
       "      <td>NaN</td>\n",
       "      <td>NaN</td>\n",
       "      <td>NaN</td>\n",
       "      <td>...</td>\n",
       "      <td>NaN</td>\n",
       "      <td>NaN</td>\n",
       "      <td>NaN</td>\n",
       "      <td>NaN</td>\n",
       "      <td>NaN</td>\n",
       "      <td>NaN</td>\n",
       "      <td>NaN</td>\n",
       "      <td>NaN</td>\n",
       "      <td>NaN</td>\n",
       "      <td>NaN</td>\n",
       "    </tr>\n",
       "    <tr>\n",
       "      <th>1</th>\n",
       "      <td>부산광역시</td>\n",
       "      <td>부산광역시</td>\n",
       "      <td>2022</td>\n",
       "      <td>0.0</td>\n",
       "      <td>57.7</td>\n",
       "      <td>0.0</td>\n",
       "      <td>NaN</td>\n",
       "      <td>NaN</td>\n",
       "      <td>NaN</td>\n",
       "      <td>NaN</td>\n",
       "      <td>...</td>\n",
       "      <td>NaN</td>\n",
       "      <td>NaN</td>\n",
       "      <td>NaN</td>\n",
       "      <td>NaN</td>\n",
       "      <td>NaN</td>\n",
       "      <td>NaN</td>\n",
       "      <td>NaN</td>\n",
       "      <td>NaN</td>\n",
       "      <td>NaN</td>\n",
       "      <td>NaN</td>\n",
       "    </tr>\n",
       "  </tbody>\n",
       "</table>\n",
       "<p>2 rows × 31 columns</p>\n",
       "</div>"
      ],
      "text/plain": [
       "      시도    시군구  year  hos    er  er1564  cf  kin  elementary  doctors  ...  \\\n",
       "0  서울특별시  서울특별시  2022  0.0  61.1     0.0 NaN  NaN         NaN      NaN  ...   \n",
       "1  부산광역시  부산광역시  2022  0.0  57.7     0.0 NaN  NaN         NaN      NaN  ...   \n",
       "\n",
       "   pout  pin2  pout2  netmg  tp  sr  upr  pd  strea  stres  \n",
       "0   NaN   NaN    NaN    NaN NaN NaN  NaN NaN    NaN    NaN  \n",
       "1   NaN   NaN    NaN    NaN NaN NaN  NaN NaN    NaN    NaN  \n",
       "\n",
       "[2 rows x 31 columns]"
      ]
     },
     "execution_count": 4,
     "metadata": {},
     "output_type": "execute_result"
    }
   ],
   "source": [
    "final_df = pd.read_excel('./EA_Data/final_local.xlsx')\n",
    "final_df.head(2)"
   ]
  },
  {
   "cell_type": "code",
   "execution_count": null,
   "metadata": {},
   "outputs": [],
   "source": [
    "el = pd.read_excel('./EA_Data/economic_level.xlsx', engine='openpyxl',sheet_name=1)\n",
    "el.drop(1,inplace=True)"
   ]
  },
  {
   "cell_type": "code",
   "execution_count": null,
   "metadata": {},
   "outputs": [],
   "source": [
    "el"
   ]
  },
  {
   "cell_type": "code",
   "execution_count": null,
   "metadata": {},
   "outputs": [],
   "source": [
    "for i,j in zip(range(5,5+15*3,3),range(0,15*179,179)):\n",
    "    final_df.iloc[j:j+179,3:6] = el.iloc[1:,i:i+3].values\n",
    "final_df"
   ]
  },
  {
   "cell_type": "code",
   "execution_count": null,
   "metadata": {},
   "outputs": [],
   "source": [
    "# final_df.loc[0:179,[\"hos\",\"er\",\"er1564\"]] = el.iloc[1:,5:8].values\n",
    "final_df.iloc[0:179,2:5]\n"
   ]
  },
  {
   "cell_type": "code",
   "execution_count": 105,
   "metadata": {},
   "outputs": [],
   "source": [
    "final_df.to_excel('ecm_result1.0.xlsx',sheet_name=\"economic_level\",index=False)"
   ]
  },
  {
   "cell_type": "markdown",
   "metadata": {},
   "source": [
    "### 인구10만명 당 문화기반 시설: cf"
   ]
  },
  {
   "cell_type": "code",
   "execution_count": null,
   "metadata": {},
   "outputs": [],
   "source": [
    "final_df = pd.read_excel('./ecm_result1.0.xlsx')\n",
    "final_df.head(5)"
   ]
  },
  {
   "cell_type": "code",
   "execution_count": null,
   "metadata": {},
   "outputs": [],
   "source": [
    "infra = pd.read_excel('./EA_Data/infra.xlsx',sheet_name = \"문화시설\")\n",
    "infra = infra.drop(1)\n",
    "infra"
   ]
  },
  {
   "cell_type": "code",
   "execution_count": null,
   "metadata": {},
   "outputs": [],
   "source": [
    "for i,j in zip(range(2,17),range(0,15*179,179)):\n",
    "    final_df.iloc[j:j+179,6] = infra.iloc[1:,i].astype(float).values\n",
    "final_df"
   ]
  },
  {
   "cell_type": "code",
   "execution_count": 122,
   "metadata": {},
   "outputs": [],
   "source": [
    "final_df.to_excel('ecm_result1.1.xlsx',sheet_name=\"economic_level\",index=False)"
   ]
  },
  {
   "cell_type": "markdown",
   "metadata": {},
   "source": [
    "### 학생수: kin, elementary"
   ]
  },
  {
   "cell_type": "code",
   "execution_count": null,
   "metadata": {},
   "outputs": [],
   "source": [
    "final_df = pd.read_excel('./ecm_result1.1.xlsx')\n",
    "final_df.head(5)\n",
    "\n",
    "kin = pd.read_excel('./EA_Data/edus.xlsx',sheet_name = \"교육기관, 인력, 예산\")\n",
    "kin = kin.drop(1)\n",
    "kin"
   ]
  },
  {
   "cell_type": "code",
   "execution_count": null,
   "metadata": {},
   "outputs": [],
   "source": [
    "for i,j in zip(range(4,4+15*2,2),range(0,15*179,179)):\n",
    "    final_df.iloc[j:j+179,7:9] = kin.iloc[1:,i:i+2].values\n",
    "final_df\n",
    "\n",
    "final_df.to_excel('ecm_result1.2.xlsx',sheet_name=\"edus\",index=False)"
   ]
  },
  {
   "cell_type": "code",
   "execution_count": null,
   "metadata": {},
   "outputs": [],
   "source": [
    "final_df"
   ]
  },
  {
   "cell_type": "markdown",
   "metadata": {},
   "source": [
    "### 의사수: doctors"
   ]
  },
  {
   "cell_type": "code",
   "execution_count": null,
   "metadata": {},
   "outputs": [],
   "source": [
    "final_df = pd.read_excel('./ecm_result1.2.xlsx')\n",
    "\n",
    "doctors = pd.read_excel('./EA_Data/healthcare.xlsx',sheet_name = \"보건의료인력\")\n",
    "doctors = doctors.drop(1)\n"
   ]
  },
  {
   "cell_type": "code",
   "execution_count": null,
   "metadata": {},
   "outputs": [],
   "source": [
    "doctors"
   ]
  },
  {
   "cell_type": "code",
   "execution_count": null,
   "metadata": {},
   "outputs": [],
   "source": [
    "for i,j in zip(range(3,3+15),range(0,15*179,179)):\n",
    "    final_df.iloc[j:j+179,9] = doctors.iloc[1:,i].values"
   ]
  },
  {
   "cell_type": "code",
   "execution_count": null,
   "metadata": {},
   "outputs": [],
   "source": [
    "final_df"
   ]
  },
  {
   "cell_type": "code",
   "execution_count": 132,
   "metadata": {},
   "outputs": [],
   "source": [
    "final_df.to_excel('ecm_result1.3.xlsx',sheet_name=\"doctors\",index=False)"
   ]
  },
  {
   "cell_type": "markdown",
   "metadata": {},
   "source": [
    "### 삶의 질: life"
   ]
  },
  {
   "cell_type": "code",
   "execution_count": null,
   "metadata": {},
   "outputs": [],
   "source": [
    "final_df = pd.read_excel('./ecm_result1.3.xlsx')\n",
    "\n",
    "lifes = pd.read_excel('./EA_Data/life.xlsx',sheet_name = \"삶의 질\")\n",
    "lifes = lifes.drop(1)\n",
    "lifes"
   ]
  },
  {
   "cell_type": "code",
   "execution_count": null,
   "metadata": {},
   "outputs": [],
   "source": [
    "for i,j in zip(range(6,6+15*4,4),range(0,15*179,179)):\n",
    "    final_df.iloc[j:j+179,10:14] = lifes.iloc[1:,i:i+4].values\n",
    "final_df"
   ]
  },
  {
   "cell_type": "code",
   "execution_count": 139,
   "metadata": {},
   "outputs": [],
   "source": [
    "final_df.to_excel('ecm_result1.4.xlsx',sheet_name=\"life\",index=False)"
   ]
  },
  {
   "cell_type": "markdown",
   "metadata": {},
   "source": [
    "### 미분양: 후순위 col = 14"
   ]
  },
  {
   "cell_type": "markdown",
   "metadata": {},
   "source": [
    "### 인구: 동태"
   ]
  },
  {
   "cell_type": "code",
   "execution_count": null,
   "metadata": {},
   "outputs": [],
   "source": [
    "final_df = pd.read_excel('./ecm_result1.4.xlsx')\n",
    "\n",
    "pop_d = pd.read_excel('./EA_Data/pop_d.xlsx',sheet_name = \"인구동태\")\n",
    "pop_d = pop_d.drop(1)\n",
    "pop_d"
   ]
  },
  {
   "cell_type": "code",
   "execution_count": null,
   "metadata": {},
   "outputs": [],
   "source": [
    "for i,j in zip(range(12,12+15*10,10),range(0,15*179,179)):\n",
    "    final_df.iloc[j:j+179,15:25] = pop_d.iloc[1:,i:i+10].values\n",
    "final_df"
   ]
  },
  {
   "cell_type": "code",
   "execution_count": 143,
   "metadata": {},
   "outputs": [],
   "source": [
    "final_df.to_excel('ecm_result1.5.xlsx',sheet_name=\"pop_d\",index=False)"
   ]
  },
  {
   "cell_type": "markdown",
   "metadata": {},
   "source": [
    "### 인구: 정태"
   ]
  },
  {
   "cell_type": "code",
   "execution_count": null,
   "metadata": {},
   "outputs": [],
   "source": [
    "final_df = pd.read_excel('./ecm_result1.5.xlsx')\n",
    "\n",
    "pop_s = pd.read_excel('./EA_Data/pop_s.xlsx',sheet_name = \"인구정태\")\n",
    "pop_s = pop_s.drop(1)\n",
    "pop_s"
   ]
  },
  {
   "cell_type": "code",
   "execution_count": null,
   "metadata": {},
   "outputs": [],
   "source": [
    "for i,j in zip(range(6,6+15*4,4),range(0,15*179,179)):\n",
    "    final_df.iloc[j:j+179,25:29] = pop_s.iloc[1:,i:i+4].values\n",
    "final_df"
   ]
  },
  {
   "cell_type": "code",
   "execution_count": 147,
   "metadata": {},
   "outputs": [],
   "source": [
    "final_df.to_excel('ecm_result1.6.xlsx',sheet_name=\"pop_s\",index=False)"
   ]
  },
  {
   "cell_type": "markdown",
   "metadata": {},
   "source": [
    "### 스트레스"
   ]
  },
  {
   "cell_type": "code",
   "execution_count": null,
   "metadata": {},
   "outputs": [],
   "source": [
    "final_df = pd.read_excel('./ecm_result1.6.xlsx')\n",
    "\n",
    "stress = pd.read_excel('./EA_Data/stress.xlsx',sheet_name = \"스트레스\")\n",
    "stress = stress.drop(1)\n",
    "stress.head(5)"
   ]
  },
  {
   "cell_type": "code",
   "execution_count": 151,
   "metadata": {},
   "outputs": [
    {
     "name": "stderr",
     "output_type": "stream",
     "text": [
      "/var/folders/8r/7lqlzhld40jfhd5w5cgxjcp00000gn/T/ipykernel_56067/3164768334.py:2: FutureWarning: Setting an item of incompatible dtype is deprecated and will raise an error in a future version of pandas. Value '['24', '20.8', '20.3', '24.2', '24.3', '23.4', '20.5', '20.1', '23.2', '22.4', '24.1', '24.8', '24.1', '25.5', '20.2', '26.4', '23.1', '26.2', '22.5', '22.3', '19.9', '23.2', '23.9', '23', '27.1', '22.8', '24.1', '19.7', '23.4', '21.3', '24.3', '23.9', '23.2', '18.4', '25.5', '23.1', '22', '0', '20.3', '15.3', '22.6', '22', '22.9', '25.6', '21.7', '19.8', '20.9', '16.2', '20.2', '20.7', '19.6', '20.6', '21.7', '20.2', '21.3', '19', '21.7', '23.5', '17.1', '22.5', '22.7', '0', '22', '26.1', '23.1', '0', '25.1', '17.8', '20.6', '24.7', '17.5', '21.4', '16.8', '21.9', '22.9', '24.5', '21.2', '21', '26.9', '24.3', '18.3', '21.9', '21.1', '19.5', '0', '18.5', '17.4', '21.5', '22.6', '18', '22.5', '0', '22.7', '24.5', '24.1', '21.7', '22.7', '24', '21.8', '14.4', '20.8', '20.1', '20.4', '20.2', '18.8', '22.4', '19.2', '19.6', '26.3', '17.8', '19.1', '21.8', '21.4', '18.3', '18.5', '14.2', '11.8', '22.1', '21.6', '19.5', '21', '17.9', '16.2', '15.1', '17.6', '24', '20.4', '19.2', '15.6', '16', '20.4', '20', '20.4', '22.2', '20.1', '23', '18.5', '21.8', '15', '19.2', '23.7', '16.1', '16.9', '14', '20.2', '20', '18.6', '17.5', '17.4', '18', '22.6', '19.9', '16.4', '16.6', '20.7', '22.4', '21.4', '19.1', '19', '20', '21', '25.8', '17.6', '15.3', '21.1', '21.4', '16', '20', '14.4', '18.8', '15.4', '18.1', '15.4', '21.8', '18.4', '18.1', '23', '23.4', '21.9']' has dtype incompatible with float64, please explicitly cast to a compatible dtype first.\n",
      "  final_df.iloc[j:j+179,29:31] = stress.iloc[1:,i:i+2].values\n",
      "/var/folders/8r/7lqlzhld40jfhd5w5cgxjcp00000gn/T/ipykernel_56067/3164768334.py:2: FutureWarning: Setting an item of incompatible dtype is deprecated and will raise an error in a future version of pandas. Value '['25.7', '22.8', '22.6', '26.3', '25.9', '24.5', '21.9', '20.1', '24.6', '23.3', '25.3', '26.3', '25.8', '26.9', '21.9', '27.8', '23.5', '28.5', '24.7', '23.9', '21.5', '25.2', '24', '23.2', '29.3', '25.4', '24.7', '21.2', '23.4', '22.4', '26.2', '24.8', '23.5', '18', '27.8', '25.5', '24.3', '0', '24.9', '17.3', '26.7', '25.5', '26.4', '28.8', '25.1', '20.8', '23.3', '17.2', '24.6', '25.4', '23', '24.3', '23.6', '24', '23.1', '22.9', '26', '26.5', '17.1', '27.6', '25.2', '0', '25.1', '29.6', '24.6', '0', '31.8', '22.3', '21.8', '27.6', '16.6', '26.4', '22.3', '24.9', '25.4', '25.4', '25.3', '21.1', '29.3', '25.9', '22', '23.8', '24', '23.8', '0', '22.3', '21.9', '23', '25.5', '19.6', '29.1', '0', '24.9', '25.7', '26.2', '24.3', '27.2', '25', '24.9', '15.3', '22.1', '24', '23.2', '26', '24.8', '26.7', '24.3', '21.5', '26.3', '20.3', '20.2', '25', '22.9', '19.8', '21.3', '14.4', '11.6', '26', '23.9', '20.4', '26.7', '22.3', '15.8', '17.5', '19.3', '24.8', '23.6', '21.7', '16.5', '14.4', '23.4', '22.6', '22.9', '24', '25.4', '25', '21', '24', '19', '24.5', '25.9', '20.6', '20.9', '18.5', '22.5', '19.5', '23.6', '20.9', '22.1', '19.9', '23.9', '24.4', '19.7', '18.6', '23.1', '24.8', '24', '20.4', '20.6', '21.9', '23.7', '27.6', '20.3', '16.3', '23.4', '23.7', '20.7', '23.9', '16.7', '22.3', '18.9', '22.6', '17.2', '27.5', '23.2', '23.1', '25', '25.4', '23.8']' has dtype incompatible with float64, please explicitly cast to a compatible dtype first.\n",
      "  final_df.iloc[j:j+179,29:31] = stress.iloc[1:,i:i+2].values\n"
     ]
    },
    {
     "data": {
      "text/html": [
       "<div>\n",
       "<style scoped>\n",
       "    .dataframe tbody tr th:only-of-type {\n",
       "        vertical-align: middle;\n",
       "    }\n",
       "\n",
       "    .dataframe tbody tr th {\n",
       "        vertical-align: top;\n",
       "    }\n",
       "\n",
       "    .dataframe thead th {\n",
       "        text-align: right;\n",
       "    }\n",
       "</style>\n",
       "<table border=\"1\" class=\"dataframe\">\n",
       "  <thead>\n",
       "    <tr style=\"text-align: right;\">\n",
       "      <th></th>\n",
       "      <th>시도</th>\n",
       "      <th>시군구</th>\n",
       "      <th>year</th>\n",
       "      <th>hos</th>\n",
       "      <th>er</th>\n",
       "      <th>er1564</th>\n",
       "      <th>cf</th>\n",
       "      <th>kin</th>\n",
       "      <th>elementary</th>\n",
       "      <th>doctors</th>\n",
       "      <th>...</th>\n",
       "      <th>pout</th>\n",
       "      <th>pin2</th>\n",
       "      <th>pout2</th>\n",
       "      <th>netmg</th>\n",
       "      <th>tp</th>\n",
       "      <th>sr</th>\n",
       "      <th>upr</th>\n",
       "      <th>pd</th>\n",
       "      <th>strea</th>\n",
       "      <th>stres</th>\n",
       "    </tr>\n",
       "  </thead>\n",
       "  <tbody>\n",
       "    <tr>\n",
       "      <th>0</th>\n",
       "      <td>서울특별시</td>\n",
       "      <td>서울특별시</td>\n",
       "      <td>2022</td>\n",
       "      <td>0.0</td>\n",
       "      <td>60.4</td>\n",
       "      <td>0.0</td>\n",
       "      <td>4.80</td>\n",
       "      <td>66,524</td>\n",
       "      <td>393,565</td>\n",
       "      <td>32,704</td>\n",
       "      <td>...</td>\n",
       "      <td>468,146</td>\n",
       "      <td>430,576</td>\n",
       "      <td>465,916</td>\n",
       "      <td>-35,340</td>\n",
       "      <td>9,428,372</td>\n",
       "      <td>94.1</td>\n",
       "      <td>100.00</td>\n",
       "      <td>0</td>\n",
       "      <td>24</td>\n",
       "      <td>25.7</td>\n",
       "    </tr>\n",
       "    <tr>\n",
       "      <th>1</th>\n",
       "      <td>부산광역시</td>\n",
       "      <td>부산광역시</td>\n",
       "      <td>2022</td>\n",
       "      <td>0.0</td>\n",
       "      <td>57.1</td>\n",
       "      <td>0.0</td>\n",
       "      <td>4.30</td>\n",
       "      <td>36,308</td>\n",
       "      <td>154,858</td>\n",
       "      <td>8,356</td>\n",
       "      <td>...</td>\n",
       "      <td>169,621</td>\n",
       "      <td>104,892</td>\n",
       "      <td>118,454</td>\n",
       "      <td>-13,562</td>\n",
       "      <td>3,317,812</td>\n",
       "      <td>95.4</td>\n",
       "      <td>99.77</td>\n",
       "      <td>0</td>\n",
       "      <td>20.8</td>\n",
       "      <td>22.8</td>\n",
       "    </tr>\n",
       "    <tr>\n",
       "      <th>2</th>\n",
       "      <td>대구광역시</td>\n",
       "      <td>대구광역시</td>\n",
       "      <td>2022</td>\n",
       "      <td>0.0</td>\n",
       "      <td>59.1</td>\n",
       "      <td>0.0</td>\n",
       "      <td>4.00</td>\n",
       "      <td>32,272</td>\n",
       "      <td>121,485</td>\n",
       "      <td>6,192</td>\n",
       "      <td>...</td>\n",
       "      <td>102,771</td>\n",
       "      <td>81,567</td>\n",
       "      <td>93,086</td>\n",
       "      <td>-11,519</td>\n",
       "      <td>2,363,691</td>\n",
       "      <td>96.8</td>\n",
       "      <td>98.70</td>\n",
       "      <td>0</td>\n",
       "      <td>20.3</td>\n",
       "      <td>22.6</td>\n",
       "    </tr>\n",
       "    <tr>\n",
       "      <th>3</th>\n",
       "      <td>인천광역시</td>\n",
       "      <td>인천광역시</td>\n",
       "      <td>2022</td>\n",
       "      <td>0.0</td>\n",
       "      <td>62.7</td>\n",
       "      <td>0.0</td>\n",
       "      <td>4.30</td>\n",
       "      <td>35,427</td>\n",
       "      <td>155,906</td>\n",
       "      <td>5,375</td>\n",
       "      <td>...</td>\n",
       "      <td>116,812</td>\n",
       "      <td>155,221</td>\n",
       "      <td>127,120</td>\n",
       "      <td>28,101</td>\n",
       "      <td>2,967,314</td>\n",
       "      <td>100.2</td>\n",
       "      <td>97.78</td>\n",
       "      <td>0</td>\n",
       "      <td>24.2</td>\n",
       "      <td>26.3</td>\n",
       "    </tr>\n",
       "    <tr>\n",
       "      <th>4</th>\n",
       "      <td>광주광역시</td>\n",
       "      <td>광주광역시</td>\n",
       "      <td>2022</td>\n",
       "      <td>0.0</td>\n",
       "      <td>58.6</td>\n",
       "      <td>0.0</td>\n",
       "      <td>5.50</td>\n",
       "      <td>20,998</td>\n",
       "      <td>83,929</td>\n",
       "      <td>3,751</td>\n",
       "      <td>...</td>\n",
       "      <td>65,006</td>\n",
       "      <td>55,458</td>\n",
       "      <td>63,100</td>\n",
       "      <td>-7,642</td>\n",
       "      <td>1,431,050</td>\n",
       "      <td>97.7</td>\n",
       "      <td>100.00</td>\n",
       "      <td>0</td>\n",
       "      <td>24.3</td>\n",
       "      <td>25.9</td>\n",
       "    </tr>\n",
       "    <tr>\n",
       "      <th>...</th>\n",
       "      <td>...</td>\n",
       "      <td>...</td>\n",
       "      <td>...</td>\n",
       "      <td>...</td>\n",
       "      <td>...</td>\n",
       "      <td>...</td>\n",
       "      <td>...</td>\n",
       "      <td>...</td>\n",
       "      <td>...</td>\n",
       "      <td>...</td>\n",
       "      <td>...</td>\n",
       "      <td>...</td>\n",
       "      <td>...</td>\n",
       "      <td>...</td>\n",
       "      <td>...</td>\n",
       "      <td>...</td>\n",
       "      <td>...</td>\n",
       "      <td>...</td>\n",
       "      <td>...</td>\n",
       "      <td>...</td>\n",
       "      <td>...</td>\n",
       "    </tr>\n",
       "    <tr>\n",
       "      <th>2680</th>\n",
       "      <td>경상남도</td>\n",
       "      <td>거창군</td>\n",
       "      <td>2008</td>\n",
       "      <td>0.0</td>\n",
       "      <td>0.0</td>\n",
       "      <td>0.0</td>\n",
       "      <td>7.90</td>\n",
       "      <td>607</td>\n",
       "      <td>4,277</td>\n",
       "      <td>62</td>\n",
       "      <td>...</td>\n",
       "      <td>1,386</td>\n",
       "      <td>2,696</td>\n",
       "      <td>3,141</td>\n",
       "      <td>-505</td>\n",
       "      <td>63,268</td>\n",
       "      <td>94.8</td>\n",
       "      <td>62.18</td>\n",
       "      <td>78.69</td>\n",
       "      <td>21.7</td>\n",
       "      <td>20.4</td>\n",
       "    </tr>\n",
       "    <tr>\n",
       "      <th>2681</th>\n",
       "      <td>경상남도</td>\n",
       "      <td>합천군</td>\n",
       "      <td>2008</td>\n",
       "      <td>0.0</td>\n",
       "      <td>0.0</td>\n",
       "      <td>0.0</td>\n",
       "      <td>8.98</td>\n",
       "      <td>373</td>\n",
       "      <td>2,445</td>\n",
       "      <td>56</td>\n",
       "      <td>...</td>\n",
       "      <td>2,757</td>\n",
       "      <td>5,845</td>\n",
       "      <td>5,304</td>\n",
       "      <td>556</td>\n",
       "      <td>55,677</td>\n",
       "      <td>91.7</td>\n",
       "      <td>22.48</td>\n",
       "      <td>56.61</td>\n",
       "      <td>39</td>\n",
       "      <td>43.3</td>\n",
       "    </tr>\n",
       "    <tr>\n",
       "      <th>2682</th>\n",
       "      <td>제주특별자치도</td>\n",
       "      <td>제주특별자치도</td>\n",
       "      <td>2008</td>\n",
       "      <td>0.0</td>\n",
       "      <td>68.0</td>\n",
       "      <td>0.0</td>\n",
       "      <td>13.91</td>\n",
       "      <td>5,016</td>\n",
       "      <td>48,291</td>\n",
       "      <td>709</td>\n",
       "      <td>...</td>\n",
       "      <td>8,714</td>\n",
       "      <td>20,560</td>\n",
       "      <td>22,796</td>\n",
       "      <td>-2,236</td>\n",
       "      <td>560,618</td>\n",
       "      <td>99.8</td>\n",
       "      <td>94.07</td>\n",
       "      <td>303.28</td>\n",
       "      <td>30.3</td>\n",
       "      <td>30.3</td>\n",
       "    </tr>\n",
       "    <tr>\n",
       "      <th>2683</th>\n",
       "      <td>제주특별자치도</td>\n",
       "      <td>제주시</td>\n",
       "      <td>2008</td>\n",
       "      <td>0.0</td>\n",
       "      <td>0.0</td>\n",
       "      <td>0.0</td>\n",
       "      <td>0.00</td>\n",
       "      <td>0</td>\n",
       "      <td>0</td>\n",
       "      <td>590</td>\n",
       "      <td>...</td>\n",
       "      <td>3,752</td>\n",
       "      <td>15,219</td>\n",
       "      <td>17,159</td>\n",
       "      <td>-730</td>\n",
       "      <td>407,498</td>\n",
       "      <td>99.4</td>\n",
       "      <td>96.92</td>\n",
       "      <td>416.76</td>\n",
       "      <td>0</td>\n",
       "      <td>0</td>\n",
       "    </tr>\n",
       "    <tr>\n",
       "      <th>2684</th>\n",
       "      <td>제주특별자치도</td>\n",
       "      <td>서귀포시</td>\n",
       "      <td>2008</td>\n",
       "      <td>0.0</td>\n",
       "      <td>0.0</td>\n",
       "      <td>0.0</td>\n",
       "      <td>0.00</td>\n",
       "      <td>0</td>\n",
       "      <td>0</td>\n",
       "      <td>119</td>\n",
       "      <td>...</td>\n",
       "      <td>4,962</td>\n",
       "      <td>5,341</td>\n",
       "      <td>5,637</td>\n",
       "      <td>-1,506</td>\n",
       "      <td>153,120</td>\n",
       "      <td>101.1</td>\n",
       "      <td>86.48</td>\n",
       "      <td>175.85</td>\n",
       "      <td>0</td>\n",
       "      <td>0</td>\n",
       "    </tr>\n",
       "  </tbody>\n",
       "</table>\n",
       "<p>2685 rows × 31 columns</p>\n",
       "</div>"
      ],
      "text/plain": [
       "           시도      시군구  year  hos    er  er1564     cf     kin elementary  \\\n",
       "0       서울특별시    서울특별시  2022  0.0  60.4     0.0   4.80  66,524    393,565   \n",
       "1       부산광역시    부산광역시  2022  0.0  57.1     0.0   4.30  36,308    154,858   \n",
       "2       대구광역시    대구광역시  2022  0.0  59.1     0.0   4.00  32,272    121,485   \n",
       "3       인천광역시    인천광역시  2022  0.0  62.7     0.0   4.30  35,427    155,906   \n",
       "4       광주광역시    광주광역시  2022  0.0  58.6     0.0   5.50  20,998     83,929   \n",
       "...       ...      ...   ...  ...   ...     ...    ...     ...        ...   \n",
       "2680     경상남도      거창군  2008  0.0   0.0     0.0   7.90     607      4,277   \n",
       "2681     경상남도      합천군  2008  0.0   0.0     0.0   8.98     373      2,445   \n",
       "2682  제주특별자치도  제주특별자치도  2008  0.0  68.0     0.0  13.91   5,016     48,291   \n",
       "2683  제주특별자치도      제주시  2008  0.0   0.0     0.0   0.00       0          0   \n",
       "2684  제주특별자치도     서귀포시  2008  0.0   0.0     0.0   0.00       0          0   \n",
       "\n",
       "     doctors  ...     pout     pin2    pout2    netmg         tp     sr  \\\n",
       "0     32,704  ...  468,146  430,576  465,916  -35,340  9,428,372   94.1   \n",
       "1      8,356  ...  169,621  104,892  118,454  -13,562  3,317,812   95.4   \n",
       "2      6,192  ...  102,771   81,567   93,086  -11,519  2,363,691   96.8   \n",
       "3      5,375  ...  116,812  155,221  127,120   28,101  2,967,314  100.2   \n",
       "4      3,751  ...   65,006   55,458   63,100   -7,642  1,431,050   97.7   \n",
       "...      ...  ...      ...      ...      ...      ...        ...    ...   \n",
       "2680      62  ...    1,386    2,696    3,141     -505     63,268   94.8   \n",
       "2681      56  ...    2,757    5,845    5,304      556     55,677   91.7   \n",
       "2682     709  ...    8,714   20,560   22,796   -2,236    560,618   99.8   \n",
       "2683     590  ...    3,752   15,219   17,159     -730    407,498   99.4   \n",
       "2684     119  ...    4,962    5,341    5,637   -1,506    153,120  101.1   \n",
       "\n",
       "         upr      pd strea stres  \n",
       "0     100.00       0    24  25.7  \n",
       "1      99.77       0  20.8  22.8  \n",
       "2      98.70       0  20.3  22.6  \n",
       "3      97.78       0  24.2  26.3  \n",
       "4     100.00       0  24.3  25.9  \n",
       "...      ...     ...   ...   ...  \n",
       "2680   62.18   78.69  21.7  20.4  \n",
       "2681   22.48   56.61    39  43.3  \n",
       "2682   94.07  303.28  30.3  30.3  \n",
       "2683   96.92  416.76     0     0  \n",
       "2684   86.48  175.85     0     0  \n",
       "\n",
       "[2685 rows x 31 columns]"
      ]
     },
     "execution_count": 151,
     "metadata": {},
     "output_type": "execute_result"
    }
   ],
   "source": [
    "for i,j in zip(range(4,4+15*2,2),range(0,15*179,179)):\n",
    "    final_df.iloc[j:j+179,29:31] = stress.iloc[1:,i:i+2].values\n",
    "final_df"
   ]
  },
  {
   "cell_type": "code",
   "execution_count": 152,
   "metadata": {},
   "outputs": [],
   "source": [
    "final_df.to_excel('ecm_result1.7.xlsx',sheet_name=\"stress\",index=False)"
   ]
  }
 ],
 "metadata": {
  "kernelspec": {
   "display_name": "Python 3",
   "language": "python",
   "name": "python3"
  },
  "language_info": {
   "codemirror_mode": {
    "name": "ipython",
    "version": 3
   },
   "file_extension": ".py",
   "mimetype": "text/x-python",
   "name": "python",
   "nbconvert_exporter": "python",
   "pygments_lexer": "ipython3",
   "version": "3.12.6"
  }
 },
 "nbformat": 4,
 "nbformat_minor": 2
}
