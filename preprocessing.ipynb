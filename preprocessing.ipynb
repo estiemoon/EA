{
 "cells": [
  {
   "cell_type": "code",
   "execution_count": 1,
   "metadata": {},
   "outputs": [],
   "source": [
    "import pandas as pd"
   ]
  },
  {
   "cell_type": "markdown",
   "metadata": {},
   "source": [
    "### 경제수준(update전)"
   ]
  },
  {
   "cell_type": "code",
   "execution_count": null,
   "metadata": {},
   "outputs": [],
   "source": [
    "final_df = pd.read_excel('./EA_Data/final_local.xlsx')\n"
   ]
  },
  {
   "cell_type": "code",
   "execution_count": null,
   "metadata": {},
   "outputs": [],
   "source": [
    "el = pd.read_excel('./EA_Data/economic_level_b.xlsx', engine='openpyxl',sheet_name=1)\n",
    "el.drop(1,inplace=True)"
   ]
  },
  {
   "cell_type": "code",
   "execution_count": null,
   "metadata": {},
   "outputs": [],
   "source": [
    "for i,j in zip(range(5,5+15*3,3),range(0,15*179,179)):\n",
    "    final_df.iloc[j:j+179,3:6] = el.iloc[1:,i:i+3].values\n",
    "final_df"
   ]
  },
  {
   "cell_type": "code",
   "execution_count": 105,
   "metadata": {},
   "outputs": [],
   "source": [
    "final_df.to_excel('ecm_result1.0.xlsx',sheet_name=\"economic_level\",index=False)"
   ]
  },
  {
   "cell_type": "markdown",
   "metadata": {},
   "source": [
    "### 인구10만명 당 문화기반 시설: cf"
   ]
  },
  {
   "cell_type": "code",
   "execution_count": null,
   "metadata": {},
   "outputs": [],
   "source": [
    "final_df = pd.read_excel('./ecm_result1.0.xlsx')\n",
    "final_df.head(5)"
   ]
  },
  {
   "cell_type": "code",
   "execution_count": null,
   "metadata": {},
   "outputs": [],
   "source": [
    "infra = pd.read_excel('./EA_Data/infra.xlsx',sheet_name = \"문화시설\")\n",
    "infra = infra.drop(1)\n",
    "infra"
   ]
  },
  {
   "cell_type": "code",
   "execution_count": null,
   "metadata": {},
   "outputs": [],
   "source": [
    "for i,j in zip(range(2,17),range(0,15*179,179)):\n",
    "    final_df.iloc[j:j+179,6] = infra.iloc[1:,i].astype(float).values\n",
    "final_df"
   ]
  },
  {
   "cell_type": "code",
   "execution_count": 122,
   "metadata": {},
   "outputs": [],
   "source": [
    "final_df.to_excel('ecm_result1.1.xlsx',sheet_name=\"economic_level\",index=False)"
   ]
  },
  {
   "cell_type": "markdown",
   "metadata": {},
   "source": [
    "### 학생수: kin, elementary"
   ]
  },
  {
   "cell_type": "code",
   "execution_count": null,
   "metadata": {},
   "outputs": [],
   "source": [
    "final_df = pd.read_excel('./ecm_result1.1.xlsx')\n",
    "final_df.head(5)\n",
    "\n",
    "kin = pd.read_excel('./EA_Data/edus.xlsx',sheet_name = \"교육기관, 인력, 예산\")\n",
    "kin = kin.drop(1)\n",
    "kin"
   ]
  },
  {
   "cell_type": "code",
   "execution_count": null,
   "metadata": {},
   "outputs": [],
   "source": [
    "for i,j in zip(range(4,4+15*2,2),range(0,15*179,179)):\n",
    "    final_df.iloc[j:j+179,7:9] = kin.iloc[1:,i:i+2].values\n",
    "final_df\n",
    "\n",
    "final_df.to_excel('ecm_result1.2.xlsx',sheet_name=\"edus\",index=False)"
   ]
  },
  {
   "cell_type": "code",
   "execution_count": null,
   "metadata": {},
   "outputs": [],
   "source": [
    "final_df"
   ]
  },
  {
   "cell_type": "markdown",
   "metadata": {},
   "source": [
    "### 의사수: doctors"
   ]
  },
  {
   "cell_type": "code",
   "execution_count": null,
   "metadata": {},
   "outputs": [],
   "source": [
    "final_df = pd.read_excel('./ecm_result1.2.xlsx')\n",
    "\n",
    "doctors = pd.read_excel('./EA_Data/healthcare.xlsx',sheet_name = \"보건의료인력\")\n",
    "doctors = doctors.drop(1)\n"
   ]
  },
  {
   "cell_type": "code",
   "execution_count": null,
   "metadata": {},
   "outputs": [],
   "source": [
    "doctors"
   ]
  },
  {
   "cell_type": "code",
   "execution_count": null,
   "metadata": {},
   "outputs": [],
   "source": [
    "for i,j in zip(range(3,3+15),range(0,15*179,179)):\n",
    "    final_df.iloc[j:j+179,9] = doctors.iloc[1:,i].values"
   ]
  },
  {
   "cell_type": "code",
   "execution_count": null,
   "metadata": {},
   "outputs": [],
   "source": [
    "final_df"
   ]
  },
  {
   "cell_type": "code",
   "execution_count": 132,
   "metadata": {},
   "outputs": [],
   "source": [
    "final_df.to_excel('ecm_result1.3.xlsx',sheet_name=\"doctors\",index=False)"
   ]
  },
  {
   "cell_type": "markdown",
   "metadata": {},
   "source": [
    "### 삶의 질: life"
   ]
  },
  {
   "cell_type": "code",
   "execution_count": null,
   "metadata": {},
   "outputs": [],
   "source": [
    "final_df = pd.read_excel('./ecm_result1.3.xlsx')\n",
    "\n",
    "lifes = pd.read_excel('./EA_Data/life.xlsx',sheet_name = \"삶의 질\")\n",
    "lifes = lifes.drop(1)\n",
    "lifes"
   ]
  },
  {
   "cell_type": "code",
   "execution_count": null,
   "metadata": {},
   "outputs": [],
   "source": [
    "for i,j in zip(range(6,6+15*4,4),range(0,15*179,179)):\n",
    "    final_df.iloc[j:j+179,10:14] = lifes.iloc[1:,i:i+4].values\n",
    "final_df"
   ]
  },
  {
   "cell_type": "code",
   "execution_count": 139,
   "metadata": {},
   "outputs": [],
   "source": [
    "final_df.to_excel('ecm_result1.4.xlsx',sheet_name=\"life\",index=False)"
   ]
  },
  {
   "cell_type": "markdown",
   "metadata": {},
   "source": [
    "### 인구: 동태"
   ]
  },
  {
   "cell_type": "code",
   "execution_count": null,
   "metadata": {},
   "outputs": [],
   "source": [
    "final_df = pd.read_excel('./ecm_result1.4.xlsx')\n",
    "\n",
    "pop_d = pd.read_excel('./EA_Data/pop_d.xlsx',sheet_name = \"인구동태\")\n",
    "pop_d = pop_d.drop(1)\n",
    "pop_d"
   ]
  },
  {
   "cell_type": "code",
   "execution_count": null,
   "metadata": {},
   "outputs": [],
   "source": [
    "for i,j in zip(range(12,12+15*10,10),range(0,15*179,179)):\n",
    "    final_df.iloc[j:j+179,15:25] = pop_d.iloc[1:,i:i+10].values\n",
    "final_df"
   ]
  },
  {
   "cell_type": "code",
   "execution_count": 143,
   "metadata": {},
   "outputs": [],
   "source": [
    "final_df.to_excel('ecm_result1.5.xlsx',sheet_name=\"pop_d\",index=False)"
   ]
  },
  {
   "cell_type": "markdown",
   "metadata": {},
   "source": [
    "### 인구: 정태"
   ]
  },
  {
   "cell_type": "code",
   "execution_count": null,
   "metadata": {},
   "outputs": [],
   "source": [
    "final_df = pd.read_excel('./ecm_result1.5.xlsx')\n",
    "\n",
    "pop_s = pd.read_excel('./EA_Data/pop_s.xlsx',sheet_name = \"인구정태\")\n",
    "pop_s = pop_s.drop(1)\n",
    "pop_s"
   ]
  },
  {
   "cell_type": "code",
   "execution_count": null,
   "metadata": {},
   "outputs": [],
   "source": [
    "for i,j in zip(range(6,6+15*4,4),range(0,15*179,179)):\n",
    "    final_df.iloc[j:j+179,25:29] = pop_s.iloc[1:,i:i+4].values\n",
    "final_df"
   ]
  },
  {
   "cell_type": "code",
   "execution_count": 147,
   "metadata": {},
   "outputs": [],
   "source": [
    "final_df.to_excel('ecm_result1.6.xlsx',sheet_name=\"pop_s\",index=False)"
   ]
  },
  {
   "cell_type": "markdown",
   "metadata": {},
   "source": [
    "### 스트레스"
   ]
  },
  {
   "cell_type": "code",
   "execution_count": null,
   "metadata": {},
   "outputs": [],
   "source": [
    "final_df = pd.read_excel('./ecm_result1.6.xlsx')\n",
    "\n",
    "stress = pd.read_excel('./EA_Data/stress.xlsx',sheet_name = \"스트레스\")\n",
    "stress = stress.drop(1)\n",
    "stress.head(5)"
   ]
  },
  {
   "cell_type": "code",
   "execution_count": null,
   "metadata": {},
   "outputs": [],
   "source": [
    "for i,j in zip(range(4,4+15*2,2),range(0,15*179,179)):\n",
    "    final_df.iloc[j:j+179,29:31] = stress.iloc[1:,i:i+2].values\n",
    "final_df"
   ]
  },
  {
   "cell_type": "code",
   "execution_count": 152,
   "metadata": {},
   "outputs": [],
   "source": [
    "final_df.to_excel('ecm_result1.7.xlsx',sheet_name=\"stress\",index=False)"
   ]
  },
  {
   "cell_type": "markdown",
   "metadata": {},
   "source": [
    "### 지가 변동률, Grdp"
   ]
  },
  {
   "cell_type": "code",
   "execution_count": 77,
   "metadata": {},
   "outputs": [],
   "source": [
    "df = pd.read_excel('./results/ecm_result1.7.xlsx')\n",
    "\n",
    "lpv = pd.read_excel('./EA_Data/landPrice.xlsx')\n",
    "grdp = pd.read_excel('./EA_Data/grdp.xlsx')"
   ]
  },
  {
   "cell_type": "code",
   "execution_count": null,
   "metadata": {},
   "outputs": [],
   "source": [
    "for i,j in zip(range(6,6+15),range(0,15*179,179)):\n",
    "    df.iloc[j:j+179,31] = lpv.iloc[1:,i].values\n",
    "\n",
    "for i,j in zip(range(3,3+14),range(0,14*179,179)):\n",
    "    df.iloc[j:j+179,32] = grdp.iloc[1:,i].values\n",
    "    \n",
    "df"
   ]
  },
  {
   "cell_type": "code",
   "execution_count": null,
   "metadata": {},
   "outputs": [],
   "source": [
    "df.to_excel('ecm_result1.8.xlsx',sheet_name=\"grdp, landPrice\",index=False)"
   ]
  },
  {
   "cell_type": "markdown",
   "metadata": {},
   "source": [
    "## 2차"
   ]
  },
  {
   "cell_type": "code",
   "execution_count": 88,
   "metadata": {},
   "outputs": [],
   "source": [
    "df = pd.read_excel('./results/ecm_result1.9.xlsx')\n"
   ]
  },
  {
   "cell_type": "markdown",
   "metadata": {},
   "source": [
    "### 미분양: 전처리 필요"
   ]
  },
  {
   "cell_type": "markdown",
   "metadata": {},
   "source": [
    "##### 데이터확인"
   ]
  },
  {
   "cell_type": "code",
   "execution_count": 2,
   "metadata": {},
   "outputs": [
    {
     "name": "stderr",
     "output_type": "stream",
     "text": [
      "/Library/Frameworks/Python.framework/Versions/3.12/lib/python3.12/site-packages/openpyxl/styles/stylesheet.py:237: UserWarning: Workbook contains no default style, apply openpyxl's default\n",
      "  warn(\"Workbook contains no default style, apply openpyxl's default\")\n"
     ]
    },
    {
     "data": {
      "text/plain": [
       "Index(['월', '구분', '시군구', '미분양'], dtype='object')"
      ]
     },
     "execution_count": 2,
     "metadata": {},
     "output_type": "execute_result"
    }
   ],
   "source": [
    "nonhouse = pd.read_excel('./EA_Data/nonhouse.xlsx')\n",
    "\n",
    "nonhouse.rename(columns={\"미분양주택현황보고(Unsold New Housings) / 시·군·구별 미분양현황 (200012 ~ 202409)\":\"월\",\"Unnamed: 1\": \"구분\", \"Unnamed: 2\": \"시군구\",\"Unnamed: 3\": \"미분양\"}, inplace=True)\n",
    "nonhouse.columns"
   ]
  },
  {
   "cell_type": "code",
   "execution_count": null,
   "metadata": {},
   "outputs": [],
   "source": [
    "nonhouse.drop(index=[0,1,2,3],inplace=True)\n",
    "nonhouse.head(8)\n",
    "\n",
    "nonhouse = nonhouse[\n",
    "    ~(\n",
    "        (nonhouse['월'].str[-2:] != \"12\") |\n",
    "        (nonhouse['월'].str[:4] == \"2023\") |\n",
    "        (nonhouse['구분'].isin(['서울', '부산', '대구', '인천', '광주', '대전', '울산'])) &\n",
    "        (nonhouse['시군구'].str.strip() != \"계\") \n",
    "\n",
    "    )\n",
    "]\n",
    "\n",
    "nonhouse.to_excel('pp_nonhouse.xlsx', index=False)"
   ]
  },
  {
   "cell_type": "markdown",
   "metadata": {},
   "source": [
    "##### 데이터 merge"
   ]
  },
  {
   "cell_type": "code",
   "execution_count": 33,
   "metadata": {},
   "outputs": [],
   "source": [
    "nonhouse = pd.read_excel(\"EA_Data/nonhouse2.0.xlsx\")"
   ]
  },
  {
   "cell_type": "code",
   "execution_count": null,
   "metadata": {},
   "outputs": [],
   "source": [
    "for i,j in zip(range(len(nonhouse)-179,-1,-179),range(0,15*179,179)):\n",
    "    df.iloc[j:j+179,34] = nonhouse.iloc[i:i+179,3].values"
   ]
  },
  {
   "cell_type": "code",
   "execution_count": 90,
   "metadata": {},
   "outputs": [],
   "source": [
    "df.to_excel(\"check.xlsx\")"
   ]
  },
  {
   "cell_type": "markdown",
   "metadata": {},
   "source": [
    "### 아파트 거래현황"
   ]
  },
  {
   "cell_type": "code",
   "execution_count": null,
   "metadata": {},
   "outputs": [],
   "source": [
    "apt = pd.read_excel(\"EA_Data/apt.xlsx\")\n",
    "apt.drop(index=0,inplace=True)\n",
    "apt"
   ]
  },
  {
   "cell_type": "code",
   "execution_count": null,
   "metadata": {},
   "outputs": [],
   "source": [
    "\n",
    "for i,j in zip(range(16,1,-1),range(0,15*179,179)):\n",
    "    df.iloc[j:j+179,35] = apt.iloc[:,i].values"
   ]
  },
  {
   "cell_type": "markdown",
   "metadata": {},
   "source": [
    "### 교통편"
   ]
  },
  {
   "cell_type": "code",
   "execution_count": null,
   "metadata": {},
   "outputs": [],
   "source": [
    "ktx = pd.read_excel(\"EA_Data/ktx.xlsx\")\n",
    "ktx"
   ]
  },
  {
   "cell_type": "code",
   "execution_count": null,
   "metadata": {},
   "outputs": [],
   "source": [
    "df[\"ktx\"] = ktx[\"KTX개수\"]"
   ]
  },
  {
   "cell_type": "markdown",
   "metadata": {},
   "source": [
    "### 서울과의 직선거리"
   ]
  },
  {
   "cell_type": "code",
   "execution_count": null,
   "metadata": {},
   "outputs": [],
   "source": [
    "distance = pd.read_excel(\"EA_Data/cal_distance.xlsx\")\n",
    "distance"
   ]
  },
  {
   "cell_type": "code",
   "execution_count": null,
   "metadata": {},
   "outputs": [],
   "source": [
    "for j in range(0,15*179,179):\n",
    "    df.iloc[j:j+179,37] = distance.iloc[:,6]\n",
    "df"
   ]
  },
  {
   "cell_type": "markdown",
   "metadata": {},
   "source": [
    "### 경제수준(update)"
   ]
  },
  {
   "cell_type": "code",
   "execution_count": 112,
   "metadata": {},
   "outputs": [],
   "source": [
    "df = pd.read_excel(\"results/ecm_result.2.0.xlsx\") #38-40\n",
    "el = pd.read_excel(\"EA_Data/economic_level.xlsx\")"
   ]
  },
  {
   "cell_type": "code",
   "execution_count": 119,
   "metadata": {},
   "outputs": [],
   "source": [
    "for i,j in zip(range(2,2+15*3,3),range(0,15*179,179)):\n",
    "    df.iloc[j:j+179,39:42] = el.iloc[1:,i:i+3].values"
   ]
  },
  {
   "cell_type": "code",
   "execution_count": 121,
   "metadata": {},
   "outputs": [],
   "source": [
    "df.to_excel(\"./results/ecm_result.2.0.xlsx\")"
   ]
  },
  {
   "cell_type": "markdown",
   "metadata": {},
   "source": [
    "### 산업채 수"
   ]
  },
  {
   "cell_type": "markdown",
   "metadata": {},
   "source": [
    "### 자영업자수"
   ]
  },
  {
   "cell_type": "markdown",
   "metadata": {},
   "source": [
    "### 청년층 비율"
   ]
  },
  {
   "cell_type": "markdown",
   "metadata": {},
   "source": [
    "### 편의시설 수\n"
   ]
  },
  {
   "cell_type": "markdown",
   "metadata": {},
   "source": [
    "### 고용률 다시"
   ]
  }
 ],
 "metadata": {
  "kernelspec": {
   "display_name": "Python 3",
   "language": "python",
   "name": "python3"
  },
  "language_info": {
   "codemirror_mode": {
    "name": "ipython",
    "version": 3
   },
   "file_extension": ".py",
   "mimetype": "text/x-python",
   "name": "python",
   "nbconvert_exporter": "python",
   "pygments_lexer": "ipython3",
   "version": "3.12.6"
  }
 },
 "nbformat": 4,
 "nbformat_minor": 2
}
