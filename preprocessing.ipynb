{
 "cells": [
  {
   "cell_type": "code",
   "execution_count": 4,
   "metadata": {},
   "outputs": [],
   "source": [
    "import pandas as pd\n",
    "import numpy as np\n",
    "import os \n",
    "import csv"
   ]
  },
  {
   "cell_type": "markdown",
   "metadata": {},
   "source": [
    "### 경제수준:economic_level.xlsx"
   ]
  },
  {
   "cell_type": "code",
   "execution_count": 4,
   "metadata": {},
   "outputs": [
    {
     "data": {
      "text/html": [
       "<div>\n",
       "<style scoped>\n",
       "    .dataframe tbody tr th:only-of-type {\n",
       "        vertical-align: middle;\n",
       "    }\n",
       "\n",
       "    .dataframe tbody tr th {\n",
       "        vertical-align: top;\n",
       "    }\n",
       "\n",
       "    .dataframe thead th {\n",
       "        text-align: right;\n",
       "    }\n",
       "</style>\n",
       "<table border=\"1\" class=\"dataframe\">\n",
       "  <thead>\n",
       "    <tr style=\"text-align: right;\">\n",
       "      <th></th>\n",
       "      <th>시도</th>\n",
       "      <th>시군구</th>\n",
       "      <th>year</th>\n",
       "      <th>hos</th>\n",
       "      <th>er</th>\n",
       "      <th>er1564</th>\n",
       "      <th>cf</th>\n",
       "      <th>kin</th>\n",
       "      <th>elementary</th>\n",
       "      <th>doctors</th>\n",
       "      <th>...</th>\n",
       "      <th>pout</th>\n",
       "      <th>pin2</th>\n",
       "      <th>pout2</th>\n",
       "      <th>netmg</th>\n",
       "      <th>tp</th>\n",
       "      <th>sr</th>\n",
       "      <th>upr</th>\n",
       "      <th>pd</th>\n",
       "      <th>strea</th>\n",
       "      <th>stres</th>\n",
       "    </tr>\n",
       "  </thead>\n",
       "  <tbody>\n",
       "    <tr>\n",
       "      <th>0</th>\n",
       "      <td>서울특별시</td>\n",
       "      <td>서울특별시</td>\n",
       "      <td>2022</td>\n",
       "      <td>0.0</td>\n",
       "      <td>61.1</td>\n",
       "      <td>0.0</td>\n",
       "      <td>NaN</td>\n",
       "      <td>NaN</td>\n",
       "      <td>NaN</td>\n",
       "      <td>NaN</td>\n",
       "      <td>...</td>\n",
       "      <td>NaN</td>\n",
       "      <td>NaN</td>\n",
       "      <td>NaN</td>\n",
       "      <td>NaN</td>\n",
       "      <td>NaN</td>\n",
       "      <td>NaN</td>\n",
       "      <td>NaN</td>\n",
       "      <td>NaN</td>\n",
       "      <td>NaN</td>\n",
       "      <td>NaN</td>\n",
       "    </tr>\n",
       "    <tr>\n",
       "      <th>1</th>\n",
       "      <td>부산광역시</td>\n",
       "      <td>부산광역시</td>\n",
       "      <td>2022</td>\n",
       "      <td>0.0</td>\n",
       "      <td>57.7</td>\n",
       "      <td>0.0</td>\n",
       "      <td>NaN</td>\n",
       "      <td>NaN</td>\n",
       "      <td>NaN</td>\n",
       "      <td>NaN</td>\n",
       "      <td>...</td>\n",
       "      <td>NaN</td>\n",
       "      <td>NaN</td>\n",
       "      <td>NaN</td>\n",
       "      <td>NaN</td>\n",
       "      <td>NaN</td>\n",
       "      <td>NaN</td>\n",
       "      <td>NaN</td>\n",
       "      <td>NaN</td>\n",
       "      <td>NaN</td>\n",
       "      <td>NaN</td>\n",
       "    </tr>\n",
       "  </tbody>\n",
       "</table>\n",
       "<p>2 rows × 31 columns</p>\n",
       "</div>"
      ],
      "text/plain": [
       "      시도    시군구  year  hos    er  er1564  cf  kin  elementary  doctors  ...  \\\n",
       "0  서울특별시  서울특별시  2022  0.0  61.1     0.0 NaN  NaN         NaN      NaN  ...   \n",
       "1  부산광역시  부산광역시  2022  0.0  57.7     0.0 NaN  NaN         NaN      NaN  ...   \n",
       "\n",
       "   pout  pin2  pout2  netmg  tp  sr  upr  pd  strea  stres  \n",
       "0   NaN   NaN    NaN    NaN NaN NaN  NaN NaN    NaN    NaN  \n",
       "1   NaN   NaN    NaN    NaN NaN NaN  NaN NaN    NaN    NaN  \n",
       "\n",
       "[2 rows x 31 columns]"
      ]
     },
     "execution_count": 4,
     "metadata": {},
     "output_type": "execute_result"
    }
   ],
   "source": [
    "final_df = pd.read_excel('./EA_Data/final_local.xlsx')\n",
    "final_df.head(2)"
   ]
  },
  {
   "cell_type": "code",
   "execution_count": 109,
   "metadata": {},
   "outputs": [
    {
     "name": "stderr",
     "output_type": "stream",
     "text": [
      "/Library/Frameworks/Python.framework/Versions/3.12/lib/python3.12/site-packages/openpyxl/styles/stylesheet.py:237: UserWarning: Workbook contains no default style, apply openpyxl's default\n",
      "  warn(\"Workbook contains no default style, apply openpyxl's default\")\n"
     ]
    }
   ],
   "source": [
    "el = pd.read_excel('./EA_Data/economic_level.xlsx', engine='openpyxl',sheet_name=1)\n",
    "el.drop(1,inplace=True)"
   ]
  },
  {
   "cell_type": "code",
   "execution_count": 110,
   "metadata": {},
   "outputs": [
    {
     "data": {
      "text/html": [
       "<div>\n",
       "<style scoped>\n",
       "    .dataframe tbody tr th:only-of-type {\n",
       "        vertical-align: middle;\n",
       "    }\n",
       "\n",
       "    .dataframe tbody tr th {\n",
       "        vertical-align: top;\n",
       "    }\n",
       "\n",
       "    .dataframe thead th {\n",
       "        text-align: right;\n",
       "    }\n",
       "</style>\n",
       "<table border=\"1\" class=\"dataframe\">\n",
       "  <thead>\n",
       "    <tr style=\"text-align: right;\">\n",
       "      <th></th>\n",
       "      <th>시도</th>\n",
       "      <th>시군구</th>\n",
       "      <th>2023</th>\n",
       "      <th>Unnamed: 3</th>\n",
       "      <th>Unnamed: 4</th>\n",
       "      <th>2022</th>\n",
       "      <th>Unnamed: 6</th>\n",
       "      <th>Unnamed: 7</th>\n",
       "      <th>2021</th>\n",
       "      <th>Unnamed: 9</th>\n",
       "      <th>...</th>\n",
       "      <th>Unnamed: 40</th>\n",
       "      <th>2010</th>\n",
       "      <th>Unnamed: 42</th>\n",
       "      <th>Unnamed: 43</th>\n",
       "      <th>2009</th>\n",
       "      <th>Unnamed: 45</th>\n",
       "      <th>Unnamed: 46</th>\n",
       "      <th>2008</th>\n",
       "      <th>Unnamed: 48</th>\n",
       "      <th>Unnamed: 49</th>\n",
       "    </tr>\n",
       "  </thead>\n",
       "  <tbody>\n",
       "    <tr>\n",
       "      <th>0</th>\n",
       "      <td>NaN</td>\n",
       "      <td>NaN</td>\n",
       "      <td>주택소유율</td>\n",
       "      <td>고용률</td>\n",
       "      <td>고용률 15-64세</td>\n",
       "      <td>주택소유율</td>\n",
       "      <td>고용률</td>\n",
       "      <td>고용률 15-64세</td>\n",
       "      <td>주택소유율</td>\n",
       "      <td>고용률</td>\n",
       "      <td>...</td>\n",
       "      <td>고용률 15-64세</td>\n",
       "      <td>주택소유율</td>\n",
       "      <td>고용률</td>\n",
       "      <td>고용률 15-64세</td>\n",
       "      <td>주택소유율</td>\n",
       "      <td>고용률</td>\n",
       "      <td>고용률 15-64세</td>\n",
       "      <td>주택소유율</td>\n",
       "      <td>고용률</td>\n",
       "      <td>고용률 15-64세</td>\n",
       "    </tr>\n",
       "    <tr>\n",
       "      <th>2</th>\n",
       "      <td>서울특별시</td>\n",
       "      <td>서울특별시</td>\n",
       "      <td>0</td>\n",
       "      <td>61.1</td>\n",
       "      <td>0</td>\n",
       "      <td>0</td>\n",
       "      <td>60.4</td>\n",
       "      <td>0</td>\n",
       "      <td>0</td>\n",
       "      <td>59.2</td>\n",
       "      <td>...</td>\n",
       "      <td>0</td>\n",
       "      <td>0</td>\n",
       "      <td>59.2</td>\n",
       "      <td>0</td>\n",
       "      <td>0</td>\n",
       "      <td>58.5</td>\n",
       "      <td>0</td>\n",
       "      <td>0</td>\n",
       "      <td>60.1</td>\n",
       "      <td>0</td>\n",
       "    </tr>\n",
       "    <tr>\n",
       "      <th>3</th>\n",
       "      <td>부산광역시</td>\n",
       "      <td>부산광역시</td>\n",
       "      <td>0</td>\n",
       "      <td>57.7</td>\n",
       "      <td>0</td>\n",
       "      <td>0</td>\n",
       "      <td>57.1</td>\n",
       "      <td>0</td>\n",
       "      <td>0</td>\n",
       "      <td>56.2</td>\n",
       "      <td>...</td>\n",
       "      <td>0</td>\n",
       "      <td>0</td>\n",
       "      <td>54.3</td>\n",
       "      <td>0</td>\n",
       "      <td>0</td>\n",
       "      <td>54.2</td>\n",
       "      <td>0</td>\n",
       "      <td>0</td>\n",
       "      <td>55.3</td>\n",
       "      <td>0</td>\n",
       "    </tr>\n",
       "    <tr>\n",
       "      <th>4</th>\n",
       "      <td>대구광역시</td>\n",
       "      <td>대구광역시</td>\n",
       "      <td>0</td>\n",
       "      <td>59.8</td>\n",
       "      <td>0</td>\n",
       "      <td>0</td>\n",
       "      <td>59.1</td>\n",
       "      <td>0</td>\n",
       "      <td>0</td>\n",
       "      <td>58.2</td>\n",
       "      <td>...</td>\n",
       "      <td>0</td>\n",
       "      <td>0</td>\n",
       "      <td>57</td>\n",
       "      <td>0</td>\n",
       "      <td>0</td>\n",
       "      <td>56.4</td>\n",
       "      <td>0</td>\n",
       "      <td>0</td>\n",
       "      <td>56.5</td>\n",
       "      <td>0</td>\n",
       "    </tr>\n",
       "    <tr>\n",
       "      <th>5</th>\n",
       "      <td>인천광역시</td>\n",
       "      <td>인천광역시</td>\n",
       "      <td>0</td>\n",
       "      <td>63.1</td>\n",
       "      <td>0</td>\n",
       "      <td>0</td>\n",
       "      <td>62.7</td>\n",
       "      <td>0</td>\n",
       "      <td>0</td>\n",
       "      <td>61.3</td>\n",
       "      <td>...</td>\n",
       "      <td>0</td>\n",
       "      <td>0</td>\n",
       "      <td>59.6</td>\n",
       "      <td>0</td>\n",
       "      <td>0</td>\n",
       "      <td>59.2</td>\n",
       "      <td>0</td>\n",
       "      <td>0</td>\n",
       "      <td>59.3</td>\n",
       "      <td>0</td>\n",
       "    </tr>\n",
       "    <tr>\n",
       "      <th>...</th>\n",
       "      <td>...</td>\n",
       "      <td>...</td>\n",
       "      <td>...</td>\n",
       "      <td>...</td>\n",
       "      <td>...</td>\n",
       "      <td>...</td>\n",
       "      <td>...</td>\n",
       "      <td>...</td>\n",
       "      <td>...</td>\n",
       "      <td>...</td>\n",
       "      <td>...</td>\n",
       "      <td>...</td>\n",
       "      <td>...</td>\n",
       "      <td>...</td>\n",
       "      <td>...</td>\n",
       "      <td>...</td>\n",
       "      <td>...</td>\n",
       "      <td>...</td>\n",
       "      <td>...</td>\n",
       "      <td>...</td>\n",
       "      <td>...</td>\n",
       "    </tr>\n",
       "    <tr>\n",
       "      <th>176</th>\n",
       "      <td>경상남도</td>\n",
       "      <td>거창군</td>\n",
       "      <td>0</td>\n",
       "      <td>0</td>\n",
       "      <td>0</td>\n",
       "      <td>0</td>\n",
       "      <td>0</td>\n",
       "      <td>0</td>\n",
       "      <td>0</td>\n",
       "      <td>0</td>\n",
       "      <td>...</td>\n",
       "      <td>0</td>\n",
       "      <td>0</td>\n",
       "      <td>0</td>\n",
       "      <td>0</td>\n",
       "      <td>0</td>\n",
       "      <td>0</td>\n",
       "      <td>0</td>\n",
       "      <td>0</td>\n",
       "      <td>0</td>\n",
       "      <td>0</td>\n",
       "    </tr>\n",
       "    <tr>\n",
       "      <th>177</th>\n",
       "      <td>경상남도</td>\n",
       "      <td>합천군</td>\n",
       "      <td>0</td>\n",
       "      <td>0</td>\n",
       "      <td>0</td>\n",
       "      <td>0</td>\n",
       "      <td>0</td>\n",
       "      <td>0</td>\n",
       "      <td>0</td>\n",
       "      <td>0</td>\n",
       "      <td>...</td>\n",
       "      <td>0</td>\n",
       "      <td>0</td>\n",
       "      <td>0</td>\n",
       "      <td>0</td>\n",
       "      <td>0</td>\n",
       "      <td>0</td>\n",
       "      <td>0</td>\n",
       "      <td>0</td>\n",
       "      <td>0</td>\n",
       "      <td>0</td>\n",
       "    </tr>\n",
       "    <tr>\n",
       "      <th>178</th>\n",
       "      <td>제주특별자치도</td>\n",
       "      <td>제주특별자치도</td>\n",
       "      <td>0</td>\n",
       "      <td>69.2</td>\n",
       "      <td>0</td>\n",
       "      <td>0</td>\n",
       "      <td>69.9</td>\n",
       "      <td>0</td>\n",
       "      <td>0</td>\n",
       "      <td>67.4</td>\n",
       "      <td>...</td>\n",
       "      <td>0</td>\n",
       "      <td>0</td>\n",
       "      <td>65.2</td>\n",
       "      <td>0</td>\n",
       "      <td>0</td>\n",
       "      <td>67.1</td>\n",
       "      <td>0</td>\n",
       "      <td>0</td>\n",
       "      <td>68</td>\n",
       "      <td>0</td>\n",
       "    </tr>\n",
       "    <tr>\n",
       "      <th>179</th>\n",
       "      <td>제주특별자치도</td>\n",
       "      <td>제주시</td>\n",
       "      <td>0</td>\n",
       "      <td>0</td>\n",
       "      <td>0</td>\n",
       "      <td>0</td>\n",
       "      <td>0</td>\n",
       "      <td>0</td>\n",
       "      <td>0</td>\n",
       "      <td>0</td>\n",
       "      <td>...</td>\n",
       "      <td>0</td>\n",
       "      <td>0</td>\n",
       "      <td>0</td>\n",
       "      <td>0</td>\n",
       "      <td>0</td>\n",
       "      <td>0</td>\n",
       "      <td>0</td>\n",
       "      <td>0</td>\n",
       "      <td>0</td>\n",
       "      <td>0</td>\n",
       "    </tr>\n",
       "    <tr>\n",
       "      <th>180</th>\n",
       "      <td>제주특별자치도</td>\n",
       "      <td>서귀포시</td>\n",
       "      <td>0</td>\n",
       "      <td>0</td>\n",
       "      <td>0</td>\n",
       "      <td>0</td>\n",
       "      <td>0</td>\n",
       "      <td>0</td>\n",
       "      <td>0</td>\n",
       "      <td>0</td>\n",
       "      <td>...</td>\n",
       "      <td>0</td>\n",
       "      <td>0</td>\n",
       "      <td>0</td>\n",
       "      <td>0</td>\n",
       "      <td>0</td>\n",
       "      <td>0</td>\n",
       "      <td>0</td>\n",
       "      <td>0</td>\n",
       "      <td>0</td>\n",
       "      <td>0</td>\n",
       "    </tr>\n",
       "  </tbody>\n",
       "</table>\n",
       "<p>180 rows × 50 columns</p>\n",
       "</div>"
      ],
      "text/plain": [
       "          시도      시군구   2023 Unnamed: 3  Unnamed: 4   2022 Unnamed: 6  \\\n",
       "0        NaN      NaN  주택소유율        고용률  고용률 15-64세  주택소유율        고용률   \n",
       "2      서울특별시    서울특별시      0       61.1           0      0       60.4   \n",
       "3      부산광역시    부산광역시      0       57.7           0      0       57.1   \n",
       "4      대구광역시    대구광역시      0       59.8           0      0       59.1   \n",
       "5      인천광역시    인천광역시      0       63.1           0      0       62.7   \n",
       "..       ...      ...    ...        ...         ...    ...        ...   \n",
       "176     경상남도      거창군      0          0           0      0          0   \n",
       "177     경상남도      합천군      0          0           0      0          0   \n",
       "178  제주특별자치도  제주특별자치도      0       69.2           0      0       69.9   \n",
       "179  제주특별자치도      제주시      0          0           0      0          0   \n",
       "180  제주특별자치도     서귀포시      0          0           0      0          0   \n",
       "\n",
       "     Unnamed: 7   2021 Unnamed: 9  ... Unnamed: 40   2010 Unnamed: 42  \\\n",
       "0    고용률 15-64세  주택소유율        고용률  ...  고용률 15-64세  주택소유율         고용률   \n",
       "2             0      0       59.2  ...           0      0        59.2   \n",
       "3             0      0       56.2  ...           0      0        54.3   \n",
       "4             0      0       58.2  ...           0      0          57   \n",
       "5             0      0       61.3  ...           0      0        59.6   \n",
       "..          ...    ...        ...  ...         ...    ...         ...   \n",
       "176           0      0          0  ...           0      0           0   \n",
       "177           0      0          0  ...           0      0           0   \n",
       "178           0      0       67.4  ...           0      0        65.2   \n",
       "179           0      0          0  ...           0      0           0   \n",
       "180           0      0          0  ...           0      0           0   \n",
       "\n",
       "    Unnamed: 43   2009 Unnamed: 45 Unnamed: 46   2008 Unnamed: 48 Unnamed: 49  \n",
       "0    고용률 15-64세  주택소유율         고용률  고용률 15-64세  주택소유율         고용률  고용률 15-64세  \n",
       "2             0      0        58.5           0      0        60.1           0  \n",
       "3             0      0        54.2           0      0        55.3           0  \n",
       "4             0      0        56.4           0      0        56.5           0  \n",
       "5             0      0        59.2           0      0        59.3           0  \n",
       "..          ...    ...         ...         ...    ...         ...         ...  \n",
       "176           0      0           0           0      0           0           0  \n",
       "177           0      0           0           0      0           0           0  \n",
       "178           0      0        67.1           0      0          68           0  \n",
       "179           0      0           0           0      0           0           0  \n",
       "180           0      0           0           0      0           0           0  \n",
       "\n",
       "[180 rows x 50 columns]"
      ]
     },
     "execution_count": 110,
     "metadata": {},
     "output_type": "execute_result"
    }
   ],
   "source": [
    "el"
   ]
  },
  {
   "cell_type": "code",
   "execution_count": null,
   "metadata": {},
   "outputs": [],
   "source": []
  },
  {
   "cell_type": "code",
   "execution_count": null,
   "metadata": {},
   "outputs": [],
   "source": [
    "for i,j in zip(range(5,5+15*3,3),range(0,15*179,179)):\n",
    "    final_df.iloc[j:j+179,3:6] = el.iloc[1:,i:i+3].values\n",
    "final_df"
   ]
  },
  {
   "cell_type": "code",
   "execution_count": null,
   "metadata": {},
   "outputs": [],
   "source": [
    "# final_df.loc[0:179,[\"hos\",\"er\",\"er1564\"]] = el.iloc[1:,5:8].values\n",
    "final_df.iloc[0:179,2:5]\n"
   ]
  },
  {
   "cell_type": "code",
   "execution_count": 105,
   "metadata": {},
   "outputs": [],
   "source": [
    "final_df.to_excel('ecm_result1.0.xlsx',sheet_name=\"economic_level\",index=False)"
   ]
  },
  {
   "cell_type": "markdown",
   "metadata": {},
   "source": [
    "### 인구10만명 당 문화기반 시설: cf"
   ]
  },
  {
   "cell_type": "code",
   "execution_count": null,
   "metadata": {},
   "outputs": [],
   "source": [
    "final_df = pd.read_excel('./ecm_result1.0.xlsx')\n",
    "final_df.head(5)"
   ]
  },
  {
   "cell_type": "code",
   "execution_count": null,
   "metadata": {},
   "outputs": [],
   "source": [
    "infra = pd.read_excel('./EA_Data/infra.xlsx',sheet_name = \"문화시설\")\n",
    "infra = infra.drop(1)\n",
    "infra"
   ]
  },
  {
   "cell_type": "code",
   "execution_count": null,
   "metadata": {},
   "outputs": [],
   "source": [
    "for i,j in zip(range(2,17),range(0,15*179,179)):\n",
    "    final_df.iloc[j:j+179,6] = infra.iloc[1:,i].astype(float).values\n",
    "final_df"
   ]
  },
  {
   "cell_type": "code",
   "execution_count": 122,
   "metadata": {},
   "outputs": [],
   "source": [
    "final_df.to_excel('ecm_result1.1.xlsx',sheet_name=\"economic_level\",index=False)"
   ]
  },
  {
   "cell_type": "markdown",
   "metadata": {},
   "source": [
    "### 학생수: kin, elementary"
   ]
  },
  {
   "cell_type": "code",
   "execution_count": null,
   "metadata": {},
   "outputs": [],
   "source": [
    "final_df = pd.read_excel('./ecm_result1.1.xlsx')\n",
    "final_df.head(5)\n",
    "\n",
    "kin = pd.read_excel('./EA_Data/edus.xlsx',sheet_name = \"교육기관, 인력, 예산\")\n",
    "kin = kin.drop(1)\n",
    "kin"
   ]
  },
  {
   "cell_type": "code",
   "execution_count": null,
   "metadata": {},
   "outputs": [],
   "source": [
    "for i,j in zip(range(4,4+15*2,2),range(0,15*179,179)):\n",
    "    final_df.iloc[j:j+179,7:9] = kin.iloc[1:,i:i+2].values\n",
    "final_df\n",
    "\n",
    "final_df.to_excel('ecm_result1.2.xlsx',sheet_name=\"edus\",index=False)"
   ]
  },
  {
   "cell_type": "code",
   "execution_count": null,
   "metadata": {},
   "outputs": [],
   "source": [
    "final_df"
   ]
  },
  {
   "cell_type": "markdown",
   "metadata": {},
   "source": [
    "### 의사수: doctors"
   ]
  },
  {
   "cell_type": "code",
   "execution_count": null,
   "metadata": {},
   "outputs": [],
   "source": [
    "final_df = pd.read_excel('./ecm_result1.2.xlsx')\n",
    "\n",
    "doctors = pd.read_excel('./EA_Data/healthcare.xlsx',sheet_name = \"보건의료인력\")\n",
    "doctors = doctors.drop(1)\n"
   ]
  },
  {
   "cell_type": "code",
   "execution_count": null,
   "metadata": {},
   "outputs": [],
   "source": [
    "doctors"
   ]
  },
  {
   "cell_type": "code",
   "execution_count": null,
   "metadata": {},
   "outputs": [],
   "source": [
    "for i,j in zip(range(3,3+15),range(0,15*179,179)):\n",
    "    final_df.iloc[j:j+179,9] = doctors.iloc[1:,i].values"
   ]
  },
  {
   "cell_type": "code",
   "execution_count": null,
   "metadata": {},
   "outputs": [],
   "source": [
    "final_df"
   ]
  },
  {
   "cell_type": "code",
   "execution_count": 132,
   "metadata": {},
   "outputs": [],
   "source": [
    "final_df.to_excel('ecm_result1.3.xlsx',sheet_name=\"doctors\",index=False)"
   ]
  },
  {
   "cell_type": "markdown",
   "metadata": {},
   "source": [
    "### 삶의 질: life"
   ]
  },
  {
   "cell_type": "code",
   "execution_count": null,
   "metadata": {},
   "outputs": [],
   "source": [
    "final_df = pd.read_excel('./ecm_result1.3.xlsx')\n",
    "\n",
    "lifes = pd.read_excel('./EA_Data/life.xlsx',sheet_name = \"삶의 질\")\n",
    "lifes = lifes.drop(1)\n",
    "lifes"
   ]
  },
  {
   "cell_type": "code",
   "execution_count": null,
   "metadata": {},
   "outputs": [],
   "source": [
    "for i,j in zip(range(6,6+15*4,4),range(0,15*179,179)):\n",
    "    final_df.iloc[j:j+179,10:14] = lifes.iloc[1:,i:i+4].values\n",
    "final_df"
   ]
  },
  {
   "cell_type": "code",
   "execution_count": 139,
   "metadata": {},
   "outputs": [],
   "source": [
    "final_df.to_excel('ecm_result1.4.xlsx',sheet_name=\"life\",index=False)"
   ]
  },
  {
   "cell_type": "markdown",
   "metadata": {},
   "source": [
    "### 미분양: 전처리 필요"
   ]
  },
  {
   "cell_type": "code",
   "execution_count": 41,
   "metadata": {},
   "outputs": [
    {
     "name": "stderr",
     "output_type": "stream",
     "text": [
      "/Library/Frameworks/Python.framework/Versions/3.12/lib/python3.12/site-packages/openpyxl/styles/stylesheet.py:237: UserWarning: Workbook contains no default style, apply openpyxl's default\n",
      "  warn(\"Workbook contains no default style, apply openpyxl's default\")\n"
     ]
    }
   ],
   "source": [
    "nonhouse = pd.read_excel('./EA_Data/nonhouse.xlsx')\n"
   ]
  },
  {
   "cell_type": "code",
   "execution_count": 42,
   "metadata": {},
   "outputs": [
    {
     "data": {
      "text/plain": [
       "Index(['월', '구분', '시군구', '미분양'], dtype='object')"
      ]
     },
     "execution_count": 42,
     "metadata": {},
     "output_type": "execute_result"
    }
   ],
   "source": [
    "nonhouse.rename(columns={\"미분양주택현황보고(Unsold New Housings) / 시·군·구별 미분양현황 (200012 ~ 202409)\":\"월\",\"Unnamed: 1\": \"구분\", \"Unnamed: 2\": \"시군구\",\"Unnamed: 3\": \"미분양\"}, inplace=True)\n",
    "nonhouse.columns"
   ]
  },
  {
   "cell_type": "code",
   "execution_count": null,
   "metadata": {},
   "outputs": [],
   "source": [
    "nonhouse"
   ]
  },
  {
   "cell_type": "code",
   "execution_count": null,
   "metadata": {},
   "outputs": [],
   "source": [
    "nonhouse.drop(index=[0,1,2,3],inplace=True)\n",
    "nonhouse.head(8)"
   ]
  },
  {
   "cell_type": "code",
   "execution_count": 74,
   "metadata": {},
   "outputs": [],
   "source": [
    "nonhouse = nonhouse[\n",
    "    ~(\n",
    "        (nonhouse['월'].str[-2:] != \"12\") |\n",
    "        (nonhouse['월'].str[:4] == \"2023\") |\n",
    "        (nonhouse['구분'].isin(['서울', '부산', '대구', '인천', '광주', '대전', '울산'])) &\n",
    "        (nonhouse['시군구'].str.strip() != \"계\") \n",
    "\n",
    "    )\n",
    "]"
   ]
  },
  {
   "cell_type": "code",
   "execution_count": 75,
   "metadata": {},
   "outputs": [
    {
     "data": {
      "text/html": [
       "<div>\n",
       "<style scoped>\n",
       "    .dataframe tbody tr th:only-of-type {\n",
       "        vertical-align: middle;\n",
       "    }\n",
       "\n",
       "    .dataframe tbody tr th {\n",
       "        vertical-align: top;\n",
       "    }\n",
       "\n",
       "    .dataframe thead th {\n",
       "        text-align: right;\n",
       "    }\n",
       "</style>\n",
       "<table border=\"1\" class=\"dataframe\">\n",
       "  <thead>\n",
       "    <tr style=\"text-align: right;\">\n",
       "      <th></th>\n",
       "      <th>월</th>\n",
       "      <th>구분</th>\n",
       "      <th>시군구</th>\n",
       "      <th>미분양</th>\n",
       "    </tr>\n",
       "  </thead>\n",
       "  <tbody>\n",
       "    <tr>\n",
       "      <th>4</th>\n",
       "      <td>2008-12</td>\n",
       "      <td>서울</td>\n",
       "      <td>계</td>\n",
       "      <td>2,486</td>\n",
       "    </tr>\n",
       "    <tr>\n",
       "      <th>30</th>\n",
       "      <td>2008-12</td>\n",
       "      <td>부산</td>\n",
       "      <td>계</td>\n",
       "      <td>13,997</td>\n",
       "    </tr>\n",
       "    <tr>\n",
       "      <th>47</th>\n",
       "      <td>2008-12</td>\n",
       "      <td>대구</td>\n",
       "      <td>계</td>\n",
       "      <td>21,379</td>\n",
       "    </tr>\n",
       "    <tr>\n",
       "      <th>56</th>\n",
       "      <td>2008-12</td>\n",
       "      <td>인천</td>\n",
       "      <td>계</td>\n",
       "      <td>1,647</td>\n",
       "    </tr>\n",
       "    <tr>\n",
       "      <th>67</th>\n",
       "      <td>2008-12</td>\n",
       "      <td>광주</td>\n",
       "      <td>계</td>\n",
       "      <td>12,384</td>\n",
       "    </tr>\n",
       "    <tr>\n",
       "      <th>...</th>\n",
       "      <td>...</td>\n",
       "      <td>...</td>\n",
       "      <td>...</td>\n",
       "      <td>...</td>\n",
       "    </tr>\n",
       "    <tr>\n",
       "      <th>41707</th>\n",
       "      <td>2022-12</td>\n",
       "      <td>경남</td>\n",
       "      <td>거창군</td>\n",
       "      <td>0</td>\n",
       "    </tr>\n",
       "    <tr>\n",
       "      <th>41708</th>\n",
       "      <td>2022-12</td>\n",
       "      <td>경남</td>\n",
       "      <td>합천군</td>\n",
       "      <td>0</td>\n",
       "    </tr>\n",
       "    <tr>\n",
       "      <th>41709</th>\n",
       "      <td>2022-12</td>\n",
       "      <td>제주</td>\n",
       "      <td>계</td>\n",
       "      <td>1,676</td>\n",
       "    </tr>\n",
       "    <tr>\n",
       "      <th>41710</th>\n",
       "      <td>2022-12</td>\n",
       "      <td>제주</td>\n",
       "      <td>제주시</td>\n",
       "      <td>863</td>\n",
       "    </tr>\n",
       "    <tr>\n",
       "      <th>41711</th>\n",
       "      <td>2022-12</td>\n",
       "      <td>제주</td>\n",
       "      <td>서귀포시</td>\n",
       "      <td>813</td>\n",
       "    </tr>\n",
       "  </tbody>\n",
       "</table>\n",
       "<p>2593 rows × 4 columns</p>\n",
       "</div>"
      ],
      "text/plain": [
       "             월  구분   시군구     미분양\n",
       "4      2008-12  서울     계   2,486\n",
       "30     2008-12  부산     계  13,997\n",
       "47     2008-12  대구     계  21,379\n",
       "56     2008-12  인천     계   1,647\n",
       "67     2008-12  광주     계  12,384\n",
       "...        ...  ..   ...     ...\n",
       "41707  2022-12  경남   거창군       0\n",
       "41708  2022-12  경남   합천군       0\n",
       "41709  2022-12  제주     계   1,676\n",
       "41710  2022-12  제주   제주시     863\n",
       "41711  2022-12  제주  서귀포시     813\n",
       "\n",
       "[2593 rows x 4 columns]"
      ]
     },
     "execution_count": 75,
     "metadata": {},
     "output_type": "execute_result"
    }
   ],
   "source": [
    "nonhouse\n"
   ]
  },
  {
   "cell_type": "code",
   "execution_count": 76,
   "metadata": {},
   "outputs": [],
   "source": [
    "nonhouse.to_excel('pp_nonhouse.xlsx', index=False)"
   ]
  },
  {
   "cell_type": "markdown",
   "metadata": {},
   "source": [
    "#### 시군구 check!!"
   ]
  },
  {
   "cell_type": "code",
   "execution_count": 103,
   "metadata": {},
   "outputs": [],
   "source": [
    "index = pd.read_excel('EA_Data/index.xlsx')\n",
    "house = pd.read_excel('pp_nonhouse.xlsx')"
   ]
  },
  {
   "cell_type": "code",
   "execution_count": 106,
   "metadata": {},
   "outputs": [],
   "source": [
    "index = index[:190]\n",
    "house = house[:190]"
   ]
  },
  {
   "cell_type": "code",
   "execution_count": null,
   "metadata": {},
   "outputs": [
    {
     "name": "stdout",
     "output_type": "stream",
     "text": [
      "178\n",
      "174\n",
      "통합청주시\n",
      "세종특별자치시\n",
      "여주시\n",
      "당진시\n",
      "통합창원시\n",
      "제주특별자치도\n",
      "=====\n",
      "계\n",
      "제주특별시\n"
     ]
    }
   ],
   "source": [
    "idx = list(set(index['시군구']))\n",
    "idx_2 = list(set(house['시군구']))\n",
    "\n",
    "print(len(idx))\n",
    "print(len(idx_2))\n",
    "for i in idx:\n",
    "    if i not in idx_2:\n",
    "        print(i)\n",
    "print(\"=====\")\n",
    "for i in idx_2:\n",
    "    if i not in idx:\n",
    "        print(i)\n",
    "        "
   ]
  },
  {
   "cell_type": "markdown",
   "metadata": {},
   "source": [
    "창원시 -> 통합창원시\n",
    "청주시 -> 통합청주시\n",
    "세종특별자치시 없음 (2012전까지 0으로 만들기)\n",
    "여주군, 여주시 만들기 \n",
    "당진군, 당진시 만들기"
   ]
  },
  {
   "cell_type": "markdown",
   "metadata": {},
   "source": [
    "### 인구: 동태"
   ]
  },
  {
   "cell_type": "code",
   "execution_count": null,
   "metadata": {},
   "outputs": [],
   "source": [
    "final_df = pd.read_excel('./ecm_result1.4.xlsx')\n",
    "\n",
    "pop_d = pd.read_excel('./EA_Data/pop_d.xlsx',sheet_name = \"인구동태\")\n",
    "pop_d = pop_d.drop(1)\n",
    "pop_d"
   ]
  },
  {
   "cell_type": "code",
   "execution_count": null,
   "metadata": {},
   "outputs": [],
   "source": [
    "for i,j in zip(range(12,12+15*10,10),range(0,15*179,179)):\n",
    "    final_df.iloc[j:j+179,15:25] = pop_d.iloc[1:,i:i+10].values\n",
    "final_df"
   ]
  },
  {
   "cell_type": "code",
   "execution_count": 143,
   "metadata": {},
   "outputs": [],
   "source": [
    "final_df.to_excel('ecm_result1.5.xlsx',sheet_name=\"pop_d\",index=False)"
   ]
  },
  {
   "cell_type": "markdown",
   "metadata": {},
   "source": [
    "### 인구: 정태"
   ]
  },
  {
   "cell_type": "code",
   "execution_count": null,
   "metadata": {},
   "outputs": [],
   "source": [
    "final_df = pd.read_excel('./ecm_result1.5.xlsx')\n",
    "\n",
    "pop_s = pd.read_excel('./EA_Data/pop_s.xlsx',sheet_name = \"인구정태\")\n",
    "pop_s = pop_s.drop(1)\n",
    "pop_s"
   ]
  },
  {
   "cell_type": "code",
   "execution_count": null,
   "metadata": {},
   "outputs": [],
   "source": [
    "for i,j in zip(range(6,6+15*4,4),range(0,15*179,179)):\n",
    "    final_df.iloc[j:j+179,25:29] = pop_s.iloc[1:,i:i+4].values\n",
    "final_df"
   ]
  },
  {
   "cell_type": "code",
   "execution_count": 147,
   "metadata": {},
   "outputs": [],
   "source": [
    "final_df.to_excel('ecm_result1.6.xlsx',sheet_name=\"pop_s\",index=False)"
   ]
  },
  {
   "cell_type": "markdown",
   "metadata": {},
   "source": [
    "### 스트레스"
   ]
  },
  {
   "cell_type": "code",
   "execution_count": null,
   "metadata": {},
   "outputs": [],
   "source": [
    "final_df = pd.read_excel('./ecm_result1.6.xlsx')\n",
    "\n",
    "stress = pd.read_excel('./EA_Data/stress.xlsx',sheet_name = \"스트레스\")\n",
    "stress = stress.drop(1)\n",
    "stress.head(5)"
   ]
  },
  {
   "cell_type": "code",
   "execution_count": null,
   "metadata": {},
   "outputs": [],
   "source": [
    "for i,j in zip(range(4,4+15*2,2),range(0,15*179,179)):\n",
    "    final_df.iloc[j:j+179,29:31] = stress.iloc[1:,i:i+2].values\n",
    "final_df"
   ]
  },
  {
   "cell_type": "code",
   "execution_count": 152,
   "metadata": {},
   "outputs": [],
   "source": [
    "final_df.to_excel('ecm_result1.7.xlsx',sheet_name=\"stress\",index=False)"
   ]
  },
  {
   "cell_type": "markdown",
   "metadata": {},
   "source": [
    "### 지가 변동률, Grdp"
   ]
  },
  {
   "cell_type": "code",
   "execution_count": null,
   "metadata": {},
   "outputs": [],
   "source": [
    "df = pd.read_excel('./results/ecm_result1.7.xlsx')\n",
    "\n",
    "lpv = pd.read_excel('./EA_Data/landPrice.xlsx')\n",
    "grdp = pd.read_excel('./EA_Data/grdp.xlsx')"
   ]
  },
  {
   "cell_type": "code",
   "execution_count": null,
   "metadata": {},
   "outputs": [],
   "source": [
    "for i,j in zip(range(6,6+15),range(0,15*179,179)):\n",
    "    df.iloc[j:j+179,31] = lpv.iloc[1:,i].values\n",
    "\n",
    "for i,j in zip(range(3,3+14),range(0,14*179,179)):\n",
    "    df.iloc[j:j+179,32] = grdp.iloc[1:,i].values\n",
    "    \n",
    "df"
   ]
  },
  {
   "cell_type": "code",
   "execution_count": 16,
   "metadata": {},
   "outputs": [],
   "source": [
    "df.to_excel('ecm_result1.8.xlsx',sheet_name=\"grdp, landPrice\",index=False)"
   ]
  },
  {
   "cell_type": "markdown",
   "metadata": {},
   "source": []
  },
  {
   "cell_type": "code",
   "execution_count": null,
   "metadata": {},
   "outputs": [],
   "source": [
    "merged_df = pd.concat([df1, df2], ignore_index=True)"
   ]
  }
 ],
 "metadata": {
  "kernelspec": {
   "display_name": "Python 3",
   "language": "python",
   "name": "python3"
  },
  "language_info": {
   "codemirror_mode": {
    "name": "ipython",
    "version": 3
   },
   "file_extension": ".py",
   "mimetype": "text/x-python",
   "name": "python",
   "nbconvert_exporter": "python",
   "pygments_lexer": "ipython3",
   "version": "3.12.6"
  }
 },
 "nbformat": 4,
 "nbformat_minor": 2
}
