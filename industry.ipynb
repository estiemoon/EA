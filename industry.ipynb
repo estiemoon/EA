{
 "cells": [
  {
   "cell_type": "code",
   "execution_count": 2,
   "metadata": {},
   "outputs": [],
   "source": [
    "import pandas as pd\n",
    "import numpy as np"
   ]
  },
  {
   "cell_type": "code",
   "execution_count": 249,
   "metadata": {},
   "outputs": [],
   "source": [
    "ind = pd.read_excel(\"EA_Data/industry.xlsx\")\n",
    "form = pd.read_excel(\"EA_Data/industry_form.xlsx\")"
   ]
  },
  {
   "cell_type": "markdown",
   "metadata": {},
   "source": [
    "1. 산업채수별 먼저 저장\n",
    "2. 변수 종사자수 만들고\n",
    "3. 추가..\n",
    "\n"
   ]
  },
  {
   "cell_type": "code",
   "execution_count": 251,
   "metadata": {},
   "outputs": [],
   "source": [
    "   # year 값 생성\n",
    "start_year = 2022\n",
    "num_rows_per_year = 179\n",
    "total_rows = len(form)\n",
    "\n",
    "years = np.repeat(range(start_year, start_year - total_rows // num_rows_per_year,-1), num_rows_per_year)\n",
    "form.iloc[:len(years), 1] = years"
   ]
  },
  {
   "cell_type": "code",
   "execution_count": 252,
   "metadata": {},
   "outputs": [
    {
     "data": {
      "text/html": [
       "<div>\n",
       "<style scoped>\n",
       "    .dataframe tbody tr th:only-of-type {\n",
       "        vertical-align: middle;\n",
       "    }\n",
       "\n",
       "    .dataframe tbody tr th {\n",
       "        vertical-align: top;\n",
       "    }\n",
       "\n",
       "    .dataframe thead th {\n",
       "        text-align: right;\n",
       "    }\n",
       "</style>\n",
       "<table border=\"1\" class=\"dataframe\">\n",
       "  <thead>\n",
       "    <tr style=\"text-align: right;\">\n",
       "      <th></th>\n",
       "      <th>Unnamed: 0</th>\n",
       "      <th>구분별(1)</th>\n",
       "      <th>구분별(2)</th>\n",
       "      <th>서울시</th>\n",
       "      <th>서울시.1</th>\n",
       "      <th>서울시.2</th>\n",
       "      <th>서울시.3</th>\n",
       "      <th>서울시.4</th>\n",
       "      <th>서울시.5</th>\n",
       "      <th>서울시.6</th>\n",
       "      <th>...</th>\n",
       "      <th>Unnamed: 293</th>\n",
       "      <th>Unnamed: 294</th>\n",
       "      <th>Unnamed: 295</th>\n",
       "      <th>Unnamed: 296</th>\n",
       "      <th>Unnamed: 297</th>\n",
       "      <th>Unnamed: 298</th>\n",
       "      <th>Unnamed: 299</th>\n",
       "      <th>Unnamed: 300</th>\n",
       "      <th>Unnamed: 301</th>\n",
       "      <th>Unnamed: 302</th>\n",
       "    </tr>\n",
       "  </thead>\n",
       "  <tbody>\n",
       "    <tr>\n",
       "      <th>0</th>\n",
       "      <td>NaN</td>\n",
       "      <td>구분별(1)</td>\n",
       "      <td>구분별(2)</td>\n",
       "      <td>2008</td>\n",
       "      <td>2008</td>\n",
       "      <td>2008</td>\n",
       "      <td>2008</td>\n",
       "      <td>2008</td>\n",
       "      <td>2008</td>\n",
       "      <td>2008</td>\n",
       "      <td>...</td>\n",
       "      <td>NaN</td>\n",
       "      <td>NaN</td>\n",
       "      <td>NaN</td>\n",
       "      <td>NaN</td>\n",
       "      <td>NaN</td>\n",
       "      <td>NaN</td>\n",
       "      <td>NaN</td>\n",
       "      <td>NaN</td>\n",
       "      <td>NaN</td>\n",
       "      <td>NaN</td>\n",
       "    </tr>\n",
       "  </tbody>\n",
       "</table>\n",
       "<p>1 rows × 303 columns</p>\n",
       "</div>"
      ],
      "text/plain": [
       "  Unnamed: 0  구분별(1)  구분별(2)   서울시 서울시.1 서울시.2 서울시.3 서울시.4 서울시.5 서울시.6  ...  \\\n",
       "0        NaN  구분별(1)  구분별(2)  2008  2008  2008  2008  2008  2008  2008  ...   \n",
       "\n",
       "  Unnamed: 293 Unnamed: 294 Unnamed: 295 Unnamed: 296 Unnamed: 297  \\\n",
       "0          NaN          NaN          NaN          NaN          NaN   \n",
       "\n",
       "  Unnamed: 298 Unnamed: 299 Unnamed: 300 Unnamed: 301 Unnamed: 302  \n",
       "0          NaN          NaN          NaN          NaN          NaN  \n",
       "\n",
       "[1 rows x 303 columns]"
      ]
     },
     "execution_count": 252,
     "metadata": {},
     "output_type": "execute_result"
    }
   ],
   "source": [
    "ind.iloc[0:1,:]"
   ]
  },
  {
   "cell_type": "code",
   "execution_count": 253,
   "metadata": {},
   "outputs": [],
   "source": [
    "ind.drop(columns=\"Unnamed: 0\",inplace=True)\n",
    "ind.set_index(\"구분별(2)\",inplace=True)\n"
   ]
  },
  {
   "cell_type": "code",
   "execution_count": 254,
   "metadata": {},
   "outputs": [],
   "source": [
    "ind_e = ind.filter(like=\"사업체\",axis=0)"
   ]
  },
  {
   "cell_type": "markdown",
   "metadata": {},
   "source": [
    "1. reindex\n",
    "2. form에 합치기"
   ]
  },
  {
   "cell_type": "code",
   "execution_count": 255,
   "metadata": {},
   "outputs": [
    {
     "data": {
      "text/plain": [
       "179"
      ]
     },
     "execution_count": 255,
     "metadata": {},
     "output_type": "execute_result"
    }
   ],
   "source": [
    "custom_orders =form[\"시군구\"][:179].to_list()\n",
    "len(custom_orders)"
   ]
  },
  {
   "cell_type": "code",
   "execution_count": 256,
   "metadata": {},
   "outputs": [],
   "source": [
    "ind_e.set_index(\"구분별(1)\",inplace=True)"
   ]
  },
  {
   "cell_type": "code",
   "execution_count": 257,
   "metadata": {},
   "outputs": [
    {
     "name": "stdout",
     "output_type": "stream",
     "text": [
      "179\n"
     ]
    },
    {
     "data": {
      "text/plain": [
       "(179, 300)"
      ]
     },
     "execution_count": 257,
     "metadata": {},
     "output_type": "execute_result"
    }
   ],
   "source": [
    "print(ind_e.index.nunique())\n",
    "ind_e.shape"
   ]
  },
  {
   "cell_type": "code",
   "execution_count": 258,
   "metadata": {},
   "outputs": [
    {
     "name": "stdout",
     "output_type": "stream",
     "text": [
      "중복값: []\n"
     ]
    }
   ],
   "source": [
    "duplicates = [x for x in set(ind_e.index) if ind_e.index.to_list().count(x) > 1]\n",
    "print(\"중복값:\", duplicates) \n",
    "    "
   ]
  },
  {
   "cell_type": "code",
   "execution_count": null,
   "metadata": {},
   "outputs": [],
   "source": [
    "ind_e.reindex(custom_orders)"
   ]
  },
  {
   "cell_type": "code",
   "execution_count": null,
   "metadata": {},
   "outputs": [],
   "source": [
    "ind_e.iloc[0:,0:20]"
   ]
  },
  {
   "cell_type": "code",
   "execution_count": null,
   "metadata": {},
   "outputs": [],
   "source": [
    "for i,j in zip(range(280,-1,-20),range(0,15*179,179)):\n",
    "    # print(i,i+20,j,j+179)\n",
    "    form.iloc[j:j+179,2:22] = ind_e.iloc[:,i:i+20]"
   ]
  },
  {
   "cell_type": "code",
   "execution_count": 288,
   "metadata": {},
   "outputs": [],
   "source": [
    "form.to_excel(\"industry_e.xlsx\",index=False)"
   ]
  },
  {
   "cell_type": "markdown",
   "metadata": {},
   "source": [
    "### 산업체 종사자별"
   ]
  },
  {
   "cell_type": "code",
   "execution_count": 289,
   "metadata": {},
   "outputs": [],
   "source": [
    "ind = pd.read_excel(\"EA_Data/industry.xlsx\")\n",
    "form = pd.read_excel(\"EA_Data/industry_form.xlsx\")"
   ]
  },
  {
   "cell_type": "code",
   "execution_count": 290,
   "metadata": {},
   "outputs": [],
   "source": [
    "   # year 값 생성\n",
    "start_year = 2022\n",
    "num_rows_per_year = 179\n",
    "total_rows = len(form)\n",
    "\n",
    "years = np.repeat(range(start_year, start_year - total_rows // num_rows_per_year,-1), num_rows_per_year)\n",
    "form.iloc[:len(years), 1] = years"
   ]
  },
  {
   "cell_type": "code",
   "execution_count": 291,
   "metadata": {},
   "outputs": [],
   "source": [
    "ind.drop(columns=\"Unnamed: 0\",inplace=True)\n",
    "ind.set_index(\"구분별(2)\",inplace=True)\n"
   ]
  },
  {
   "cell_type": "code",
   "execution_count": 292,
   "metadata": {},
   "outputs": [],
   "source": [
    "ind_workers = ind.filter(like=\"종사자\",axis=0)\n",
    "ind_workers.set_index(\"구분별(1)\",inplace=True)"
   ]
  },
  {
   "cell_type": "code",
   "execution_count": 293,
   "metadata": {},
   "outputs": [
    {
     "name": "stdout",
     "output_type": "stream",
     "text": [
      "179\n"
     ]
    },
    {
     "data": {
      "text/plain": [
       "(179, 300)"
      ]
     },
     "execution_count": 293,
     "metadata": {},
     "output_type": "execute_result"
    }
   ],
   "source": [
    "print(ind_workers.index.nunique())\n",
    "ind_workers.shape"
   ]
  },
  {
   "cell_type": "code",
   "execution_count": null,
   "metadata": {},
   "outputs": [],
   "source": [
    "ind_workers.reindex(custom_orders)"
   ]
  },
  {
   "cell_type": "code",
   "execution_count": null,
   "metadata": {},
   "outputs": [],
   "source": [
    "for i,j in zip(range(280,-1,-20),range(0,15*179,179)):\n",
    "    form.iloc[j:j+179,2:22] = ind_e.iloc[:,i:i+20]"
   ]
  },
  {
   "cell_type": "code",
   "execution_count": 297,
   "metadata": {},
   "outputs": [
    {
     "data": {
      "text/html": [
       "<div>\n",
       "<style scoped>\n",
       "    .dataframe tbody tr th:only-of-type {\n",
       "        vertical-align: middle;\n",
       "    }\n",
       "\n",
       "    .dataframe tbody tr th {\n",
       "        vertical-align: top;\n",
       "    }\n",
       "\n",
       "    .dataframe thead th {\n",
       "        text-align: right;\n",
       "    }\n",
       "</style>\n",
       "<table border=\"1\" class=\"dataframe\">\n",
       "  <thead>\n",
       "    <tr style=\"text-align: right;\">\n",
       "      <th></th>\n",
       "      <th>시군구</th>\n",
       "      <th>year</th>\n",
       "      <th>total_ind</th>\n",
       "      <th>first_ind</th>\n",
       "      <th>mining</th>\n",
       "      <th>manuf</th>\n",
       "      <th>elec_water</th>\n",
       "      <th>waste</th>\n",
       "      <th>construc</th>\n",
       "      <th>commerce</th>\n",
       "      <th>...</th>\n",
       "      <th>info_ind</th>\n",
       "      <th>finan</th>\n",
       "      <th>real_est</th>\n",
       "      <th>science</th>\n",
       "      <th>facility</th>\n",
       "      <th>public</th>\n",
       "      <th>educ_ser</th>\n",
       "      <th>health_ser</th>\n",
       "      <th>arts</th>\n",
       "      <th>associ</th>\n",
       "    </tr>\n",
       "  </thead>\n",
       "  <tbody>\n",
       "    <tr>\n",
       "      <th>0</th>\n",
       "      <td>서울특별시</td>\n",
       "      <td>2022.0</td>\n",
       "      <td>NaN</td>\n",
       "      <td>NaN</td>\n",
       "      <td>NaN</td>\n",
       "      <td>NaN</td>\n",
       "      <td>NaN</td>\n",
       "      <td>NaN</td>\n",
       "      <td>NaN</td>\n",
       "      <td>NaN</td>\n",
       "      <td>...</td>\n",
       "      <td>NaN</td>\n",
       "      <td>NaN</td>\n",
       "      <td>NaN</td>\n",
       "      <td>NaN</td>\n",
       "      <td>NaN</td>\n",
       "      <td>NaN</td>\n",
       "      <td>NaN</td>\n",
       "      <td>NaN</td>\n",
       "      <td>NaN</td>\n",
       "      <td>NaN</td>\n",
       "    </tr>\n",
       "    <tr>\n",
       "      <th>1</th>\n",
       "      <td>부산광역시</td>\n",
       "      <td>2022.0</td>\n",
       "      <td>400565</td>\n",
       "      <td>152</td>\n",
       "      <td>16</td>\n",
       "      <td>38067</td>\n",
       "      <td>301</td>\n",
       "      <td>681</td>\n",
       "      <td>26465</td>\n",
       "      <td>108084</td>\n",
       "      <td>...</td>\n",
       "      <td>4376</td>\n",
       "      <td>3842</td>\n",
       "      <td>21414</td>\n",
       "      <td>12707</td>\n",
       "      <td>9083</td>\n",
       "      <td>698</td>\n",
       "      <td>16472</td>\n",
       "      <td>10719</td>\n",
       "      <td>8177</td>\n",
       "      <td>32687</td>\n",
       "    </tr>\n",
       "    <tr>\n",
       "      <th>2</th>\n",
       "      <td>대구광역시</td>\n",
       "      <td>2022.0</td>\n",
       "      <td>279223</td>\n",
       "      <td>58</td>\n",
       "      <td>9</td>\n",
       "      <td>32445</td>\n",
       "      <td>705</td>\n",
       "      <td>484</td>\n",
       "      <td>19535</td>\n",
       "      <td>72840</td>\n",
       "      <td>...</td>\n",
       "      <td>3009</td>\n",
       "      <td>2730</td>\n",
       "      <td>12522</td>\n",
       "      <td>8293</td>\n",
       "      <td>5319</td>\n",
       "      <td>453</td>\n",
       "      <td>13461</td>\n",
       "      <td>7928</td>\n",
       "      <td>6361</td>\n",
       "      <td>23949</td>\n",
       "    </tr>\n",
       "  </tbody>\n",
       "</table>\n",
       "<p>3 rows × 22 columns</p>\n",
       "</div>"
      ],
      "text/plain": [
       "     시군구    year total_ind first_ind mining  manuf elec_water waste construc  \\\n",
       "0  서울특별시  2022.0       NaN       NaN    NaN    NaN        NaN   NaN      NaN   \n",
       "1  부산광역시  2022.0    400565       152     16  38067        301   681    26465   \n",
       "2  대구광역시  2022.0    279223        58      9  32445        705   484    19535   \n",
       "\n",
       "  commerce  ... info_ind finan real_est science facility public educ_ser  \\\n",
       "0      NaN  ...      NaN   NaN      NaN     NaN      NaN    NaN      NaN   \n",
       "1   108084  ...     4376  3842    21414   12707     9083    698    16472   \n",
       "2    72840  ...     3009  2730    12522    8293     5319    453    13461   \n",
       "\n",
       "  health_ser  arts associ  \n",
       "0        NaN   NaN    NaN  \n",
       "1      10719  8177  32687  \n",
       "2       7928  6361  23949  \n",
       "\n",
       "[3 rows x 22 columns]"
      ]
     },
     "execution_count": 297,
     "metadata": {},
     "output_type": "execute_result"
    }
   ],
   "source": [
    "form.head(3)"
   ]
  },
  {
   "cell_type": "code",
   "execution_count": 296,
   "metadata": {},
   "outputs": [],
   "source": [
    "form.to_excel(\"industry_workers.xlsx\",index=False)"
   ]
  }
 ],
 "metadata": {
  "kernelspec": {
   "display_name": "Python 3",
   "language": "python",
   "name": "python3"
  },
  "language_info": {
   "codemirror_mode": {
    "name": "ipython",
    "version": 3
   },
   "file_extension": ".py",
   "mimetype": "text/x-python",
   "name": "python",
   "nbconvert_exporter": "python",
   "pygments_lexer": "ipython3",
   "version": "3.12.6"
  }
 },
 "nbformat": 4,
 "nbformat_minor": 2
}
