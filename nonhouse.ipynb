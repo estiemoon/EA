{
 "cells": [
  {
   "cell_type": "code",
   "execution_count": 57,
   "metadata": {},
   "outputs": [],
   "source": [
    "import pandas as pd\n",
    "import numpy as np"
   ]
  },
  {
   "cell_type": "code",
   "execution_count": null,
   "metadata": {},
   "outputs": [],
   "source": [
    "nonhouse = pd.read_excel(\"./EA_Data/pp_nonhouse.xlsx\")"
   ]
  },
  {
   "cell_type": "markdown",
   "metadata": {},
   "source": [
    "1. 인덱스 지정 및 수정\n",
    "- 고성군1,2 구분\n",
    "- 계 -> 서울특별시, ..."
   ]
  },
  {
   "cell_type": "code",
   "execution_count": 79,
   "metadata": {},
   "outputs": [],
   "source": [
    "nonhouse = nonhouse[nonhouse[\"시군구\"] != \"세종시\"]"
   ]
  },
  {
   "cell_type": "code",
   "execution_count": null,
   "metadata": {},
   "outputs": [],
   "source": [
    "#고성군\n",
    "nonhouse.loc[(nonhouse[\"구분\"] == \"강원\") & (nonhouse[\"시군구\"]==\"고성군\"), \"시군구\"] = \"고성군1\"\n",
    "nonhouse.loc[(nonhouse[\"구분\"] == \"경남\") & (nonhouse[\"시군구\"]==\"고성군\"), \"시군구\"] = \"고성군2\""
   ]
  },
  {
   "cell_type": "code",
   "execution_count": 97,
   "metadata": {},
   "outputs": [],
   "source": [
    "do = { \"강원\": \"강원도\",\n",
    "    \"충북\": \"충청북도\",\n",
    "    \"충남\": \"충청남도\",\n",
    "    \"전북\": \"전라북도\",\n",
    "    \"전남\": \"전라남도\",\n",
    "    \"경북\": \"경상북도\",\n",
    "    \"경남\": \"경상남도\",\n",
    "    \"세종\": \"세종특별자치시\",\n",
    "    \"제주\": \"제주특별자치도\"}\n",
    "\n",
    "nonhouse[\"시군구\"] = nonhouse.apply(\n",
    "    lambda row: do.get(row[\"구분\"], row[\"시군구\"]) if row[\"시군구\"] == \"계\" else row[\"시군구\"],\n",
    "    axis=1\n",
    ")\n",
    "mapping = {\n",
    "    \"서울\": \"서울특별시\",\n",
    "    \"부산\": \"부산광역시\",\n",
    "    \"대구\": \"대구광역시\",\n",
    "    \"인천\": \"인천광역시\",\n",
    "    \"광주\": \"광주광역시\",\n",
    "    \"대전\": \"대전광역시\",\n",
    "    \"울산\": \"울산광역시\",\n",
    "}\n",
    "# `구분` 열을 기준으로 `시군구` 값 매핑\n",
    "nonhouse[\"시군구\"] = nonhouse[\"구분\"].map(mapping).fillna(nonhouse[\"시군구\"])\n"
   ]
  },
  {
   "cell_type": "code",
   "execution_count": 63,
   "metadata": {},
   "outputs": [],
   "source": [
    "result = pd.read_excel(\"ecm_result1.9.xlsx\")"
   ]
  },
  {
   "cell_type": "code",
   "execution_count": 98,
   "metadata": {},
   "outputs": [],
   "source": [
    "nonhouse.reset_index(inplace=True)"
   ]
  },
  {
   "cell_type": "code",
   "execution_count": 100,
   "metadata": {},
   "outputs": [
    {
     "data": {
      "text/html": [
       "<div>\n",
       "<style scoped>\n",
       "    .dataframe tbody tr th:only-of-type {\n",
       "        vertical-align: middle;\n",
       "    }\n",
       "\n",
       "    .dataframe tbody tr th {\n",
       "        vertical-align: top;\n",
       "    }\n",
       "\n",
       "    .dataframe thead th {\n",
       "        text-align: right;\n",
       "    }\n",
       "</style>\n",
       "<table border=\"1\" class=\"dataframe\">\n",
       "  <thead>\n",
       "    <tr style=\"text-align: right;\">\n",
       "      <th></th>\n",
       "      <th>월</th>\n",
       "      <th>구분</th>\n",
       "      <th>시군구</th>\n",
       "      <th>미분양</th>\n",
       "    </tr>\n",
       "  </thead>\n",
       "  <tbody>\n",
       "    <tr>\n",
       "      <th>0</th>\n",
       "      <td>2008-12</td>\n",
       "      <td>서울</td>\n",
       "      <td>서울특별시</td>\n",
       "      <td>2,486</td>\n",
       "    </tr>\n",
       "    <tr>\n",
       "      <th>1</th>\n",
       "      <td>2008-12</td>\n",
       "      <td>부산</td>\n",
       "      <td>부산광역시</td>\n",
       "      <td>13,997</td>\n",
       "    </tr>\n",
       "    <tr>\n",
       "      <th>2</th>\n",
       "      <td>2008-12</td>\n",
       "      <td>대구</td>\n",
       "      <td>대구광역시</td>\n",
       "      <td>21,379</td>\n",
       "    </tr>\n",
       "    <tr>\n",
       "      <th>3</th>\n",
       "      <td>2008-12</td>\n",
       "      <td>인천</td>\n",
       "      <td>인천광역시</td>\n",
       "      <td>1,647</td>\n",
       "    </tr>\n",
       "    <tr>\n",
       "      <th>4</th>\n",
       "      <td>2008-12</td>\n",
       "      <td>광주</td>\n",
       "      <td>광주광역시</td>\n",
       "      <td>12,384</td>\n",
       "    </tr>\n",
       "    <tr>\n",
       "      <th>...</th>\n",
       "      <td>...</td>\n",
       "      <td>...</td>\n",
       "      <td>...</td>\n",
       "      <td>...</td>\n",
       "    </tr>\n",
       "    <tr>\n",
       "      <th>2577</th>\n",
       "      <td>2022-12</td>\n",
       "      <td>경남</td>\n",
       "      <td>거창군</td>\n",
       "      <td>0</td>\n",
       "    </tr>\n",
       "    <tr>\n",
       "      <th>2578</th>\n",
       "      <td>2022-12</td>\n",
       "      <td>경남</td>\n",
       "      <td>합천군</td>\n",
       "      <td>0</td>\n",
       "    </tr>\n",
       "    <tr>\n",
       "      <th>2579</th>\n",
       "      <td>2022-12</td>\n",
       "      <td>제주</td>\n",
       "      <td>제주특별자치도</td>\n",
       "      <td>1,676</td>\n",
       "    </tr>\n",
       "    <tr>\n",
       "      <th>2580</th>\n",
       "      <td>2022-12</td>\n",
       "      <td>제주</td>\n",
       "      <td>제주시</td>\n",
       "      <td>863</td>\n",
       "    </tr>\n",
       "    <tr>\n",
       "      <th>2581</th>\n",
       "      <td>2022-12</td>\n",
       "      <td>제주</td>\n",
       "      <td>서귀포시</td>\n",
       "      <td>813</td>\n",
       "    </tr>\n",
       "  </tbody>\n",
       "</table>\n",
       "<p>2582 rows × 4 columns</p>\n",
       "</div>"
      ],
      "text/plain": [
       "            월  구분      시군구     미분양\n",
       "0     2008-12  서울    서울특별시   2,486\n",
       "1     2008-12  부산    부산광역시  13,997\n",
       "2     2008-12  대구    대구광역시  21,379\n",
       "3     2008-12  인천    인천광역시   1,647\n",
       "4     2008-12  광주    광주광역시  12,384\n",
       "...       ...  ..      ...     ...\n",
       "2577  2022-12  경남      거창군       0\n",
       "2578  2022-12  경남      합천군       0\n",
       "2579  2022-12  제주  제주특별자치도   1,676\n",
       "2580  2022-12  제주      제주시     863\n",
       "2581  2022-12  제주     서귀포시     813\n",
       "\n",
       "[2582 rows x 4 columns]"
      ]
     },
     "execution_count": 100,
     "metadata": {},
     "output_type": "execute_result"
    }
   ],
   "source": [
    "nonhouse.drop(columns=[\"level_0\",\"index\"])"
   ]
  },
  {
   "cell_type": "markdown",
   "metadata": {},
   "source": [
    "연도별 개수 체크"
   ]
  },
  {
   "cell_type": "code",
   "execution_count": 101,
   "metadata": {},
   "outputs": [],
   "source": [
    "before = 2008\n",
    "year_gap =[0]\n",
    "\n",
    "for i in range(len(nonhouse)):\n",
    "    if int(nonhouse.loc[i,\"월\"][:4]) != before:\n",
    "        year_gap.append(nonhouse.iloc[i,:].name)\n",
    "        before += 1\n",
    "        \n",
    "year_gap.append(len(nonhouse)-1)\n",
    "#year_gap"
   ]
  },
  {
   "cell_type": "code",
   "execution_count": 102,
   "metadata": {},
   "outputs": [
    {
     "name": "stdout",
     "output_type": "stream",
     "text": [
      "[0, 174, 348, 522, 694, 867, 1040, 1212, 1384, 1556, 1727, 1898, 2069, 2240, 2411, 2581]\n",
      "16\n"
     ]
    }
   ],
   "source": [
    "print(year_gap)\n",
    "print(len(year_gap))\n"
   ]
  },
  {
   "cell_type": "markdown",
   "metadata": {},
   "source": [
    "인덱스 지정"
   ]
  },
  {
   "cell_type": "code",
   "execution_count": 103,
   "metadata": {},
   "outputs": [],
   "source": [
    "custom_order = list(result.loc[:178,\"시군구\"])"
   ]
  },
  {
   "cell_type": "code",
   "execution_count": 104,
   "metadata": {},
   "outputs": [
    {
     "name": "stdout",
     "output_type": "stream",
     "text": [
      "중복값: []\n"
     ]
    }
   ],
   "source": [
    "duplicates = [x for x in set(custom_order) if custom_order.count(x) > 1]\n",
    "print(\"중복값:\", duplicates) \n",
    "    "
   ]
  },
  {
   "cell_type": "markdown",
   "metadata": {},
   "source": [
    "1. 5개 추가: \"통합창원시\",\"통합청주시\",(\"여주시\",\"여주군\"),(\"당진시\",\"당진군\"),\"세종특별자치시\"\n",
    "2. 180개씩 잘라서 reindex\n",
    "3. concat으로 합치기"
   ]
  },
  {
   "cell_type": "code",
   "execution_count": 105,
   "metadata": {},
   "outputs": [],
   "source": [
    "result_form = pd.DataFrame(columns=[\"월\", \"구분\", \"미분양\"]) #새로 담을 데이터 프레임"
   ]
  },
  {
   "cell_type": "code",
   "execution_count": null,
   "metadata": {},
   "outputs": [],
   "source": [
    "for i, year in zip(range(len(year_gap)), range(2008,2023)):\n",
    "        \n",
    "    subsample = nonhouse[year_gap[i]:year_gap[i+1]]\n",
    "\n",
    "    new_rows = pd.DataFrame([\n",
    "        {\"미분양\": 0, \"월\": year, \"구분\": \"경남\", \"시군구\": \"통합창원시\"},\n",
    "        {\"미분양\": 0, \"월\": year, \"구분\": \"충남\", \"시군구\": \"통합청주시\"},\n",
    "    ])\n",
    "    if \"세종특별자치시\" not in subsample[\"시군구\"].to_list():\n",
    "        print(0)\n",
    "        new_rows = pd.concat([\n",
    "            new_rows, pd.DataFrame([{\"미분양\": 0, \"월\": year, \"구분\": \"세종\", \"시군구\": \"세종특별자치시\"}])\n",
    "        ])\n",
    "    if \"마산시\" not in subsample[\"시군구\"].to_list():\n",
    "        print(1)\n",
    "        new_rows = pd.concat([\n",
    "            new_rows, pd.DataFrame([{\"미분양\": 0, \"월\": year, \"구분\": \"경남\", \"시군구\": \"마산시\"}])\n",
    "        ])\n",
    "    if \"진해시\" not in subsample[\"시군구\"].to_list():\n",
    "        print(2)\n",
    "        new_rows = pd.concat([\n",
    "            new_rows, pd.DataFrame([{\"미분양\": 0, \"월\": year, \"구분\": \"경남\", \"시군구\": \"진해시\"}])\n",
    "        ])\n",
    "    if \"연기군\" not in subsample[\"시군구\"].to_list():\n",
    "        print(3)\n",
    "        new_rows = pd.concat([\n",
    "            new_rows, pd.DataFrame([{\"미분양\": 0, \"월\": year, \"구분\": \"충남\", \"시군구\": \"연기군\"}])\n",
    "        ])\n",
    "    if \"청원군\" not in subsample[\"시군구\"].to_list():\n",
    "        print(4)\n",
    "        new_rows = pd.concat([\n",
    "            new_rows, pd.DataFrame([{\"미분양\": 0, \"월\": year, \"구분\": \"충북\", \"시군구\": \"청원군\"}])\n",
    "        ])\n",
    "    if \"여주군\" not in subsample[\"시군구\"].to_list():\n",
    "        print(5)\n",
    "        new_rows = pd.concat([\n",
    "            new_rows, pd.DataFrame([{\"미분양\": 0, \"월\": year, \"구분\": \"경기\", \"시군구\": \"여주군\"}])\n",
    "        ])\n",
    "    if \"여주시\" not in subsample[\"시군구\"].to_list():\n",
    "        print(6)\n",
    "        new_rows = pd.concat([\n",
    "            new_rows, pd.DataFrame([{\"미분양\": 0, \"월\": year, \"구분\": \"경기\", \"시군구\": \"여주시\"}])\n",
    "        ])\n",
    "    if \"당진군\" not in subsample[\"시군구\"].to_list():\n",
    "        print(7)\n",
    "        new_rows = pd.concat([\n",
    "            new_rows, pd.DataFrame([{\"미분양\": 0, \"월\": year, \"구분\": \"충남\", \"시군구\": \"당진군\"}])\n",
    "        ])\n",
    "    if \"당진시\" not in subsample[\"시군구\"].to_list():\n",
    "        print(8)\n",
    "        new_rows = pd.concat([\n",
    "            new_rows, pd.DataFrame([{\"미분양\": 0, \"월\": year, \"구분\": \"충남\", \"시군구\": \"당진시\"}])\n",
    "        ])\n",
    "\n",
    "    # 데이터 병합\n",
    "    subsample = pd.concat([subsample, new_rows])\n",
    "    subsample_index = subsample.set_index(keys=\"시군구\")\n",
    "    print(len(subsample_index),len(custom_order))\n",
    "    print(subsample_index.tail(3))\n",
    "    subsample_sorted = subsample_index.reindex(custom_order)\n",
    "    result_form = pd.concat([result_form, subsample_sorted])"
   ]
  },
  {
   "cell_type": "code",
   "execution_count": 109,
   "metadata": {},
   "outputs": [],
   "source": [
    "result_form.to_excel(\"nonhouse2.0.xlsx\")"
   ]
  }
 ],
 "metadata": {
  "kernelspec": {
   "display_name": "Python 3",
   "language": "python",
   "name": "python3"
  },
  "language_info": {
   "codemirror_mode": {
    "name": "ipython",
    "version": 3
   },
   "file_extension": ".py",
   "mimetype": "text/x-python",
   "name": "python",
   "nbconvert_exporter": "python",
   "pygments_lexer": "ipython3",
   "version": "3.12.6"
  }
 },
 "nbformat": 4,
 "nbformat_minor": 2
}
