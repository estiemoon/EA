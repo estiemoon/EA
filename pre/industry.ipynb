{
 "cells": [
  {
   "cell_type": "code",
   "execution_count": 2,
   "metadata": {},
   "outputs": [],
   "source": [
    "import pandas as pd\n",
    "import numpy as np"
   ]
  },
  {
   "cell_type": "code",
   "execution_count": 298,
   "metadata": {},
   "outputs": [],
   "source": [
    "ind = pd.read_excel(\"EA_Data/industry.xlsx\")\n",
    "form = pd.read_excel(\"EA_Data/industry_form.xlsx\")"
   ]
  },
  {
   "cell_type": "markdown",
   "metadata": {},
   "source": [
    "1. 산업채수별 먼저 저장\n",
    "2. 변수 종사자수 만들고\n",
    "3. 추가..\n",
    "\n"
   ]
  },
  {
   "cell_type": "code",
   "execution_count": 299,
   "metadata": {},
   "outputs": [],
   "source": [
    "   # year 값 생성\n",
    "start_year = 2022\n",
    "num_rows_per_year = 179\n",
    "total_rows = len(form)\n",
    "\n",
    "years = np.repeat(range(start_year, start_year - total_rows // num_rows_per_year,-1), num_rows_per_year)\n",
    "form.iloc[:len(years), 1] = years"
   ]
  },
  {
   "cell_type": "code",
   "execution_count": 301,
   "metadata": {},
   "outputs": [],
   "source": [
    "ind.drop(columns=\"Unnamed: 0\",inplace=True)\n",
    "ind.set_index(\"구분별(2)\",inplace=True)\n"
   ]
  },
  {
   "cell_type": "code",
   "execution_count": 302,
   "metadata": {},
   "outputs": [],
   "source": [
    "ind_e = ind.filter(like=\"사업체\",axis=0)"
   ]
  },
  {
   "cell_type": "markdown",
   "metadata": {},
   "source": [
    "1. reindex\n",
    "2. form에 합치기"
   ]
  },
  {
   "cell_type": "code",
   "execution_count": 303,
   "metadata": {},
   "outputs": [
    {
     "data": {
      "text/plain": [
       "179"
      ]
     },
     "execution_count": 303,
     "metadata": {},
     "output_type": "execute_result"
    }
   ],
   "source": [
    "custom_orders =form[\"시군구\"][:179].to_list()\n",
    "len(custom_orders)"
   ]
  },
  {
   "cell_type": "code",
   "execution_count": 304,
   "metadata": {},
   "outputs": [],
   "source": [
    "ind_e.set_index(\"구분별(1)\",inplace=True)"
   ]
  },
  {
   "cell_type": "code",
   "execution_count": 305,
   "metadata": {},
   "outputs": [
    {
     "name": "stdout",
     "output_type": "stream",
     "text": [
      "179\n"
     ]
    },
    {
     "data": {
      "text/plain": [
       "(179, 300)"
      ]
     },
     "execution_count": 305,
     "metadata": {},
     "output_type": "execute_result"
    }
   ],
   "source": [
    "print(ind_e.index.nunique())\n",
    "ind_e.shape"
   ]
  },
  {
   "cell_type": "code",
   "execution_count": 306,
   "metadata": {},
   "outputs": [
    {
     "name": "stdout",
     "output_type": "stream",
     "text": [
      "중복값: []\n"
     ]
    }
   ],
   "source": [
    "duplicates = [x for x in set(ind_e.index) if ind_e.index.to_list().count(x) > 1]\n",
    "print(\"중복값:\", duplicates) \n",
    "    "
   ]
  },
  {
   "cell_type": "code",
   "execution_count": null,
   "metadata": {},
   "outputs": [],
   "source": [
    "ind_e.reindex(custom_orders)"
   ]
  },
  {
   "cell_type": "code",
   "execution_count": null,
   "metadata": {},
   "outputs": [],
   "source": [
    "ind_e.iloc[0:,0:20]"
   ]
  },
  {
   "cell_type": "code",
   "execution_count": null,
   "metadata": {},
   "outputs": [],
   "source": [
    "for i,j in zip(range(280,-1,-20),range(0,15*179,179)):\n",
    "    # print(i,i+20,j,j+179)\n",
    "    form.iloc[j:j+179,2:22] = ind_e.iloc[:,i:i+20]"
   ]
  },
  {
   "cell_type": "code",
   "execution_count": 310,
   "metadata": {},
   "outputs": [],
   "source": [
    "form.to_excel(\"industry_e.xlsx\",index=False)"
   ]
  },
  {
   "cell_type": "markdown",
   "metadata": {},
   "source": [
    "### 산업체 종사자별"
   ]
  },
  {
   "cell_type": "code",
   "execution_count": 311,
   "metadata": {},
   "outputs": [],
   "source": [
    "ind = pd.read_excel(\"EA_Data/industry.xlsx\")\n",
    "form = pd.read_excel(\"EA_Data/industry_form.xlsx\")"
   ]
  },
  {
   "cell_type": "code",
   "execution_count": 312,
   "metadata": {},
   "outputs": [],
   "source": [
    "   # year 값 생성\n",
    "start_year = 2022\n",
    "num_rows_per_year = 179\n",
    "total_rows = len(form)\n",
    "\n",
    "years = np.repeat(range(start_year, start_year - total_rows // num_rows_per_year,-1), num_rows_per_year)\n",
    "form.iloc[:len(years), 1] = years"
   ]
  },
  {
   "cell_type": "code",
   "execution_count": 313,
   "metadata": {},
   "outputs": [],
   "source": [
    "ind.drop(columns=\"Unnamed: 0\",inplace=True)\n",
    "ind.set_index(\"구분별(2)\",inplace=True)\n"
   ]
  },
  {
   "cell_type": "code",
   "execution_count": 314,
   "metadata": {},
   "outputs": [],
   "source": [
    "ind_workers = ind.filter(like=\"종사자\",axis=0)\n",
    "ind_workers.set_index(\"구분별(1)\",inplace=True)"
   ]
  },
  {
   "cell_type": "code",
   "execution_count": 315,
   "metadata": {},
   "outputs": [
    {
     "name": "stdout",
     "output_type": "stream",
     "text": [
      "179\n"
     ]
    },
    {
     "data": {
      "text/plain": [
       "(179, 300)"
      ]
     },
     "execution_count": 315,
     "metadata": {},
     "output_type": "execute_result"
    }
   ],
   "source": [
    "print(ind_workers.index.nunique())\n",
    "ind_workers.shape"
   ]
  },
  {
   "cell_type": "code",
   "execution_count": null,
   "metadata": {},
   "outputs": [],
   "source": [
    "ind_workers.reindex(custom_orders)"
   ]
  },
  {
   "cell_type": "code",
   "execution_count": null,
   "metadata": {},
   "outputs": [],
   "source": [
    "for i,j in zip(range(280,-1,-20),range(0,15*179,179)):\n",
    "    form.iloc[j:j+179,2:22] = ind_e.iloc[:,i:i+20]"
   ]
  },
  {
   "cell_type": "code",
   "execution_count": 319,
   "metadata": {},
   "outputs": [],
   "source": [
    "form.to_excel(\"industry_workers.xlsx\",index=False)"
   ]
  }
 ],
 "metadata": {
  "kernelspec": {
   "display_name": "Python 3",
   "language": "python",
   "name": "python3"
  },
  "language_info": {
   "codemirror_mode": {
    "name": "ipython",
    "version": 3
   },
   "file_extension": ".py",
   "mimetype": "text/x-python",
   "name": "python",
   "nbconvert_exporter": "python",
   "pygments_lexer": "ipython3",
   "version": "3.12.6"
  }
 },
 "nbformat": 4,
 "nbformat_minor": 2
}
